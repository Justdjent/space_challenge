{
 "cells": [
  {
   "cell_type": "code",
   "execution_count": 10,
   "metadata": {},
   "outputs": [],
   "source": [
    "import cv2\n",
    "import numpy as np\n",
    "import rasterio\n",
    "import pandas as pd\n",
    "import os"
   ]
  },
  {
   "cell_type": "code",
   "execution_count": 11,
   "metadata": {},
   "outputs": [],
   "source": [
    "geojson_path = \"../data/geojson/\"\n",
    "masks_path = \"../data/masks/\"\n",
    "img_path = \"../data/Atlanta_nadir7_catid_1030010003D22F00/\""
   ]
  },
  {
   "cell_type": "code",
   "execution_count": 12,
   "metadata": {},
   "outputs": [],
   "source": [
    "def _polygons_to_image_view(window_cut_polygons, rect, dataset):\n",
    "    col_offset = rect[1][0]\n",
    "    row_offset = rect[0][0]\n",
    "    img_polyg_array = []\n",
    "    to_img_mat = ~dataset.meta['transform']\n",
    "    for item in window_cut_polygons.iterrows():\n",
    "        if item[1]['geometry'].type != 'Polygon':\n",
    "            # polyg_spati = np.array(cascaded_union(item[1]['geometry']).exterior.coords)\n",
    "            continue\n",
    "        else:\n",
    "            polyg_spati = np.array(item[1]['geometry'].exterior.coords)\n",
    "        polyg_img = [tuple(pt) * to_img_mat for pt in polyg_spati]\n",
    "        polyg_img = np.subtract(polyg_img, (col_offset, row_offset))\n",
    "        polyg_img = Polygon(polyg_img)\n",
    "        # polyg_img = polyg_img.convex_hull\n",
    "        img_polyg_array.append(polyg_img)\n",
    "\n",
    "    return img_polyg_array"
   ]
  },
  {
   "cell_type": "code",
   "execution_count": 13,
   "metadata": {},
   "outputs": [],
   "source": [
    "def mask_for_polygons(polygons, im_size):\n",
    "    \"\"\"Convert a polygon or multipolygon list back to\n",
    "       an image mask ndarray\"\"\"\n",
    "    img_mask = np.zeros(im_size, np.uint8)\n",
    "    if not polygons:\n",
    "        return img_mask\n",
    "    # function to round and convert to int\n",
    "    int_coords = lambda x: np.array(x).round().astype(np.int32)\n",
    "    exteriors = [int_coords(poly.exterior.coords) for poly in polygons]\n",
    "    interiors = [int_coords(pi.coords) for poly in polygons\n",
    "                 for pi in poly.interiors]\n",
    "    cv2.fillPoly(img_mask, exteriors, 1)\n",
    "    cv2.fillPoly(img_mask, interiors, 0)\n",
    "    return img_mask"
   ]
  },
  {
   "cell_type": "code",
   "execution_count": 25,
   "metadata": {},
   "outputs": [],
   "source": [
    "def create_raster_from_geojson(json_path, raster_path, dest_path):\n",
    "    print(\"ji\")\n",
    "    grove_polygons = gpd.read_file(initial_polygon_guess)\n",
    "    with rasterio.open(raster_path, \"r\") as dataset:\n",
    "        rect = [0, 0]\n",
    "        segment = _polygons_to_image_view(grove_polygons, rect, dataset)\n",
    "        mask = mask_for_polygons(segment, (dataset.meta['height'], dataset.meta['width'])) * 255\n",
    "        cv2.imsave(dest_path, mask)"
   ]
  },
  {
   "cell_type": "code",
   "execution_count": 28,
   "metadata": {},
   "outputs": [],
   "source": [
    "def masks_from_geojsons(geojson_dir, im_src_dir, mask_dest_dir,\n",
    "                        skip_existing=False, verbose=False):\n",
    "    \"\"\"Create mask images from geojsons.\n",
    "\n",
    "    Arguments:\n",
    "    ----------\n",
    "    geojson_dir (str): Path to the directory containing geojsons.\n",
    "    im_src_dir (str): Path to a directory containing geotiffs corresponding to\n",
    "        each geojson. Because the georegistration information is identical\n",
    "        across collects taken at different nadir angles, this can point to\n",
    "        geotiffs from any collect, as long as one is present for each geojson.\n",
    "    mask_dest_dir (str): Path to the destination directory.\n",
    "\n",
    "    Creates a set of binary image tiff masks corresponding to each geojson\n",
    "    within `mask_dest_dir`, required for creating the training dataset.\n",
    "\n",
    "    \"\"\"\n",
    "    print(\"hi\")\n",
    "    if not os.path.exists(geojson_dir):\n",
    "        raise NotADirectoryError(\n",
    "            \"The directory {} does not exist\".format(geojson_dir))\n",
    "    if not os.path.exists(im_src_dir):\n",
    "        raise NotADirectoryError(\n",
    "            \"The directory {} does not exist\".format(im_src_dir))\n",
    "    geojsons = [f for f in os.listdir(geojson_dir) if f.endswith('json')]\n",
    "    ims = [f for f in os.listdir(im_src_dir) if f.endswith('.tif')]\n",
    "    os.makedirs(mask_dest_dir, exist_ok=True)\n",
    "    for geojson in geojsons:\n",
    "        chip_id = os.path.splitext('_'.join(geojson.split('_')[1:]))[0]\n",
    "        dest_path = os.path.join(mask_dest_dir, 'mask_' + chip_id + '.tif')\n",
    "        if os.path.exists(dest_path) and skip_existing:\n",
    "            if verbose:\n",
    "                print('{} already exists, skipping...'.format(dest_path))\n",
    "            continue\n",
    "        matching_im = [i for i in ims if chip_id in i][0]\n",
    "        # assign output below so it's silent\n",
    "        create_raster_from_geojson(os.path.join(geojson_dir, geojson),\n",
    "                                        os.path.join(im_src_dir, matching_im),\n",
    "                                        dest_path)\n",
    "#         g = cLT.createRasterFromGeoJson(os.path.join(geojson_dir, geojson),\n",
    "#                                         os.path.join(im_src_dir, matching_im),\n",
    "#                                         dest_path)"
   ]
  },
  {
   "cell_type": "code",
   "execution_count": 29,
   "metadata": {},
   "outputs": [
    {
     "name": "stdout",
     "output_type": "stream",
     "text": [
      "hi\n"
     ]
    }
   ],
   "source": [
    "masks_from_geojsons(geojson_path, img_path, masks_path)"
   ]
  },
  {
   "cell_type": "code",
   "execution_count": null,
   "metadata": {},
   "outputs": [],
   "source": []
  }
 ],
 "metadata": {
  "kernelspec": {
   "display_name": "Python 3",
   "language": "python",
   "name": "python3"
  },
  "language_info": {
   "codemirror_mode": {
    "name": "ipython",
    "version": 3
   },
   "file_extension": ".py",
   "mimetype": "text/x-python",
   "name": "python",
   "nbconvert_exporter": "python",
   "pygments_lexer": "ipython3",
   "version": "3.5.2"
  }
 },
 "nbformat": 4,
 "nbformat_minor": 2
}
