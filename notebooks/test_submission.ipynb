{
 "cells": [
  {
   "cell_type": "code",
   "execution_count": 27,
   "metadata": {},
   "outputs": [],
   "source": [
    "import pandas as pd\n",
    "from shapely.geometry import Polygon\n",
    "from shapely import wkt"
   ]
  },
  {
   "cell_type": "code",
   "execution_count": 10,
   "metadata": {},
   "outputs": [],
   "source": [
    "subm = pd.read_csv(\"../CosmiQ_SN4_Baseline/bin/data/test_result/predictions.csv\")"
   ]
  },
  {
   "cell_type": "code",
   "execution_count": 136,
   "metadata": {},
   "outputs": [
    {
     "ename": "FileNotFoundError",
     "evalue": "File b'../CosmiQ_SN4_Baseline/bin/data/test_result_affine_watershed/prediction_affine_02.csv' does not exist",
     "output_type": "error",
     "traceback": [
      "\u001b[0;31m---------------------------------------------------------------------------\u001b[0m",
      "\u001b[0;31mFileNotFoundError\u001b[0m                         Traceback (most recent call last)",
      "\u001b[0;32m<ipython-input-136-cb21b3da1726>\u001b[0m in \u001b[0;36m<module>\u001b[0;34m\u001b[0m\n\u001b[0;32m----> 1\u001b[0;31m \u001b[0msubm\u001b[0m \u001b[0;34m=\u001b[0m \u001b[0mpd\u001b[0m\u001b[0;34m.\u001b[0m\u001b[0mread_csv\u001b[0m\u001b[0;34m(\u001b[0m\u001b[0;34m\"../CosmiQ_SN4_Baseline/bin/data/test_result_affine_watershed/prediction_affine_02.csv\"\u001b[0m\u001b[0;34m)\u001b[0m\u001b[0;34m\u001b[0m\u001b[0m\n\u001b[0m\u001b[1;32m      2\u001b[0m \u001b[0msubm\u001b[0m\u001b[0;34m.\u001b[0m\u001b[0mhead\u001b[0m\u001b[0;34m(\u001b[0m\u001b[0;36m5\u001b[0m\u001b[0;34m)\u001b[0m\u001b[0;34m\u001b[0m\u001b[0m\n\u001b[1;32m      3\u001b[0m \u001b[0;31m# print(len(subm))\u001b[0m\u001b[0;34m\u001b[0m\u001b[0;34m\u001b[0m\u001b[0m\n",
      "\u001b[0;32m~/.virtualenvs/cv34/lib/python3.5/site-packages/pandas/io/parsers.py\u001b[0m in \u001b[0;36mparser_f\u001b[0;34m(filepath_or_buffer, sep, delimiter, header, names, index_col, usecols, squeeze, prefix, mangle_dupe_cols, dtype, engine, converters, true_values, false_values, skipinitialspace, skiprows, nrows, na_values, keep_default_na, na_filter, verbose, skip_blank_lines, parse_dates, infer_datetime_format, keep_date_col, date_parser, dayfirst, iterator, chunksize, compression, thousands, decimal, lineterminator, quotechar, quoting, escapechar, comment, encoding, dialect, tupleize_cols, error_bad_lines, warn_bad_lines, skipfooter, doublequote, delim_whitespace, low_memory, memory_map, float_precision)\u001b[0m\n\u001b[1;32m    676\u001b[0m                     skip_blank_lines=skip_blank_lines)\n\u001b[1;32m    677\u001b[0m \u001b[0;34m\u001b[0m\u001b[0m\n\u001b[0;32m--> 678\u001b[0;31m         \u001b[0;32mreturn\u001b[0m \u001b[0m_read\u001b[0m\u001b[0;34m(\u001b[0m\u001b[0mfilepath_or_buffer\u001b[0m\u001b[0;34m,\u001b[0m \u001b[0mkwds\u001b[0m\u001b[0;34m)\u001b[0m\u001b[0;34m\u001b[0m\u001b[0m\n\u001b[0m\u001b[1;32m    679\u001b[0m \u001b[0;34m\u001b[0m\u001b[0m\n\u001b[1;32m    680\u001b[0m     \u001b[0mparser_f\u001b[0m\u001b[0;34m.\u001b[0m\u001b[0m__name__\u001b[0m \u001b[0;34m=\u001b[0m \u001b[0mname\u001b[0m\u001b[0;34m\u001b[0m\u001b[0m\n",
      "\u001b[0;32m~/.virtualenvs/cv34/lib/python3.5/site-packages/pandas/io/parsers.py\u001b[0m in \u001b[0;36m_read\u001b[0;34m(filepath_or_buffer, kwds)\u001b[0m\n\u001b[1;32m    438\u001b[0m \u001b[0;34m\u001b[0m\u001b[0m\n\u001b[1;32m    439\u001b[0m     \u001b[0;31m# Create the parser.\u001b[0m\u001b[0;34m\u001b[0m\u001b[0;34m\u001b[0m\u001b[0m\n\u001b[0;32m--> 440\u001b[0;31m     \u001b[0mparser\u001b[0m \u001b[0;34m=\u001b[0m \u001b[0mTextFileReader\u001b[0m\u001b[0;34m(\u001b[0m\u001b[0mfilepath_or_buffer\u001b[0m\u001b[0;34m,\u001b[0m \u001b[0;34m**\u001b[0m\u001b[0mkwds\u001b[0m\u001b[0;34m)\u001b[0m\u001b[0;34m\u001b[0m\u001b[0m\n\u001b[0m\u001b[1;32m    441\u001b[0m \u001b[0;34m\u001b[0m\u001b[0m\n\u001b[1;32m    442\u001b[0m     \u001b[0;32mif\u001b[0m \u001b[0mchunksize\u001b[0m \u001b[0;32mor\u001b[0m \u001b[0miterator\u001b[0m\u001b[0;34m:\u001b[0m\u001b[0;34m\u001b[0m\u001b[0m\n",
      "\u001b[0;32m~/.virtualenvs/cv34/lib/python3.5/site-packages/pandas/io/parsers.py\u001b[0m in \u001b[0;36m__init__\u001b[0;34m(self, f, engine, **kwds)\u001b[0m\n\u001b[1;32m    785\u001b[0m             \u001b[0mself\u001b[0m\u001b[0;34m.\u001b[0m\u001b[0moptions\u001b[0m\u001b[0;34m[\u001b[0m\u001b[0;34m'has_index_names'\u001b[0m\u001b[0;34m]\u001b[0m \u001b[0;34m=\u001b[0m \u001b[0mkwds\u001b[0m\u001b[0;34m[\u001b[0m\u001b[0;34m'has_index_names'\u001b[0m\u001b[0;34m]\u001b[0m\u001b[0;34m\u001b[0m\u001b[0m\n\u001b[1;32m    786\u001b[0m \u001b[0;34m\u001b[0m\u001b[0m\n\u001b[0;32m--> 787\u001b[0;31m         \u001b[0mself\u001b[0m\u001b[0;34m.\u001b[0m\u001b[0m_make_engine\u001b[0m\u001b[0;34m(\u001b[0m\u001b[0mself\u001b[0m\u001b[0;34m.\u001b[0m\u001b[0mengine\u001b[0m\u001b[0;34m)\u001b[0m\u001b[0;34m\u001b[0m\u001b[0m\n\u001b[0m\u001b[1;32m    788\u001b[0m \u001b[0;34m\u001b[0m\u001b[0m\n\u001b[1;32m    789\u001b[0m     \u001b[0;32mdef\u001b[0m \u001b[0mclose\u001b[0m\u001b[0;34m(\u001b[0m\u001b[0mself\u001b[0m\u001b[0;34m)\u001b[0m\u001b[0;34m:\u001b[0m\u001b[0;34m\u001b[0m\u001b[0m\n",
      "\u001b[0;32m~/.virtualenvs/cv34/lib/python3.5/site-packages/pandas/io/parsers.py\u001b[0m in \u001b[0;36m_make_engine\u001b[0;34m(self, engine)\u001b[0m\n\u001b[1;32m   1012\u001b[0m     \u001b[0;32mdef\u001b[0m \u001b[0m_make_engine\u001b[0m\u001b[0;34m(\u001b[0m\u001b[0mself\u001b[0m\u001b[0;34m,\u001b[0m \u001b[0mengine\u001b[0m\u001b[0;34m=\u001b[0m\u001b[0;34m'c'\u001b[0m\u001b[0;34m)\u001b[0m\u001b[0;34m:\u001b[0m\u001b[0;34m\u001b[0m\u001b[0m\n\u001b[1;32m   1013\u001b[0m         \u001b[0;32mif\u001b[0m \u001b[0mengine\u001b[0m \u001b[0;34m==\u001b[0m \u001b[0;34m'c'\u001b[0m\u001b[0;34m:\u001b[0m\u001b[0;34m\u001b[0m\u001b[0m\n\u001b[0;32m-> 1014\u001b[0;31m             \u001b[0mself\u001b[0m\u001b[0;34m.\u001b[0m\u001b[0m_engine\u001b[0m \u001b[0;34m=\u001b[0m \u001b[0mCParserWrapper\u001b[0m\u001b[0;34m(\u001b[0m\u001b[0mself\u001b[0m\u001b[0;34m.\u001b[0m\u001b[0mf\u001b[0m\u001b[0;34m,\u001b[0m \u001b[0;34m**\u001b[0m\u001b[0mself\u001b[0m\u001b[0;34m.\u001b[0m\u001b[0moptions\u001b[0m\u001b[0;34m)\u001b[0m\u001b[0;34m\u001b[0m\u001b[0m\n\u001b[0m\u001b[1;32m   1015\u001b[0m         \u001b[0;32melse\u001b[0m\u001b[0;34m:\u001b[0m\u001b[0;34m\u001b[0m\u001b[0m\n\u001b[1;32m   1016\u001b[0m             \u001b[0;32mif\u001b[0m \u001b[0mengine\u001b[0m \u001b[0;34m==\u001b[0m \u001b[0;34m'python'\u001b[0m\u001b[0;34m:\u001b[0m\u001b[0;34m\u001b[0m\u001b[0m\n",
      "\u001b[0;32m~/.virtualenvs/cv34/lib/python3.5/site-packages/pandas/io/parsers.py\u001b[0m in \u001b[0;36m__init__\u001b[0;34m(self, src, **kwds)\u001b[0m\n\u001b[1;32m   1706\u001b[0m         \u001b[0mkwds\u001b[0m\u001b[0;34m[\u001b[0m\u001b[0;34m'usecols'\u001b[0m\u001b[0;34m]\u001b[0m \u001b[0;34m=\u001b[0m \u001b[0mself\u001b[0m\u001b[0;34m.\u001b[0m\u001b[0musecols\u001b[0m\u001b[0;34m\u001b[0m\u001b[0m\n\u001b[1;32m   1707\u001b[0m \u001b[0;34m\u001b[0m\u001b[0m\n\u001b[0;32m-> 1708\u001b[0;31m         \u001b[0mself\u001b[0m\u001b[0;34m.\u001b[0m\u001b[0m_reader\u001b[0m \u001b[0;34m=\u001b[0m \u001b[0mparsers\u001b[0m\u001b[0;34m.\u001b[0m\u001b[0mTextReader\u001b[0m\u001b[0;34m(\u001b[0m\u001b[0msrc\u001b[0m\u001b[0;34m,\u001b[0m \u001b[0;34m**\u001b[0m\u001b[0mkwds\u001b[0m\u001b[0;34m)\u001b[0m\u001b[0;34m\u001b[0m\u001b[0m\n\u001b[0m\u001b[1;32m   1709\u001b[0m \u001b[0;34m\u001b[0m\u001b[0m\n\u001b[1;32m   1710\u001b[0m         \u001b[0mpassed_names\u001b[0m \u001b[0;34m=\u001b[0m \u001b[0mself\u001b[0m\u001b[0;34m.\u001b[0m\u001b[0mnames\u001b[0m \u001b[0;32mis\u001b[0m \u001b[0;32mNone\u001b[0m\u001b[0;34m\u001b[0m\u001b[0m\n",
      "\u001b[0;32mpandas/_libs/parsers.pyx\u001b[0m in \u001b[0;36mpandas._libs.parsers.TextReader.__cinit__\u001b[0;34m()\u001b[0m\n",
      "\u001b[0;32mpandas/_libs/parsers.pyx\u001b[0m in \u001b[0;36mpandas._libs.parsers.TextReader._setup_parser_source\u001b[0;34m()\u001b[0m\n",
      "\u001b[0;31mFileNotFoundError\u001b[0m: File b'../CosmiQ_SN4_Baseline/bin/data/test_result_affine_watershed/prediction_affine_02.csv' does not exist"
     ]
    }
   ],
   "source": [
    "subm = pd.read_csv(\"../CosmiQ_SN4_Baseline/bin/data/test_result_affine_watershed/prediction_affine_02.csv\")\n",
    "subm.head(5)\n",
    "# print(len(subm))"
   ]
  },
  {
   "cell_type": "code",
   "execution_count": 137,
   "metadata": {},
   "outputs": [
    {
     "data": {
      "text/plain": [
       "40595"
      ]
     },
     "execution_count": 137,
     "metadata": {},
     "output_type": "execute_result"
    }
   ],
   "source": [
    "len(subm)"
   ]
  },
  {
   "cell_type": "code",
   "execution_count": 151,
   "metadata": {},
   "outputs": [
    {
     "data": {
      "text/html": [
       "<div>\n",
       "<style scoped>\n",
       "    .dataframe tbody tr th:only-of-type {\n",
       "        vertical-align: middle;\n",
       "    }\n",
       "\n",
       "    .dataframe tbody tr th {\n",
       "        vertical-align: top;\n",
       "    }\n",
       "\n",
       "    .dataframe thead th {\n",
       "        text-align: right;\n",
       "    }\n",
       "</style>\n",
       "<table border=\"1\" class=\"dataframe\">\n",
       "  <thead>\n",
       "    <tr style=\"text-align: right;\">\n",
       "      <th></th>\n",
       "      <th>ImageId</th>\n",
       "      <th>BuildingId</th>\n",
       "      <th>PolygonWKT_Pix</th>\n",
       "      <th>Confidence</th>\n",
       "    </tr>\n",
       "  </thead>\n",
       "  <tbody>\n",
       "    <tr>\n",
       "      <th>0</th>\n",
       "      <td>Atlanta_nadir10_catid_1030010003993E00_733151_...</td>\n",
       "      <td>0</td>\n",
       "      <td>POLYGON ((628.00 0.00, 628.00 2.00, 629.00 2.0...</td>\n",
       "      <td>1</td>\n",
       "    </tr>\n",
       "    <tr>\n",
       "      <th>1</th>\n",
       "      <td>Atlanta_nadir10_catid_1030010003993E00_733151_...</td>\n",
       "      <td>1</td>\n",
       "      <td>POLYGON ((261.00 0.00, 261.00 20.00, 262.00 20...</td>\n",
       "      <td>1</td>\n",
       "    </tr>\n",
       "    <tr>\n",
       "      <th>2</th>\n",
       "      <td>Atlanta_nadir10_catid_1030010003993E00_733151_...</td>\n",
       "      <td>2</td>\n",
       "      <td>POLYGON ((77.00 21.00, 77.00 22.00, 73.00 22.0...</td>\n",
       "      <td>1</td>\n",
       "    </tr>\n",
       "    <tr>\n",
       "      <th>3</th>\n",
       "      <td>Atlanta_nadir10_catid_1030010003993E00_733151_...</td>\n",
       "      <td>3</td>\n",
       "      <td>POLYGON ((34.00 22.00, 34.00 23.00, 33.00 23.0...</td>\n",
       "      <td>1</td>\n",
       "    </tr>\n",
       "    <tr>\n",
       "      <th>4</th>\n",
       "      <td>Atlanta_nadir10_catid_1030010003993E00_733151_...</td>\n",
       "      <td>4</td>\n",
       "      <td>POLYGON ((152.00 27.00, 152.00 28.00, 149.00 2...</td>\n",
       "      <td>1</td>\n",
       "    </tr>\n",
       "  </tbody>\n",
       "</table>\n",
       "</div>"
      ],
      "text/plain": [
       "                                             ImageId  BuildingId  \\\n",
       "0  Atlanta_nadir10_catid_1030010003993E00_733151_...           0   \n",
       "1  Atlanta_nadir10_catid_1030010003993E00_733151_...           1   \n",
       "2  Atlanta_nadir10_catid_1030010003993E00_733151_...           2   \n",
       "3  Atlanta_nadir10_catid_1030010003993E00_733151_...           3   \n",
       "4  Atlanta_nadir10_catid_1030010003993E00_733151_...           4   \n",
       "\n",
       "                                      PolygonWKT_Pix  Confidence  \n",
       "0  POLYGON ((628.00 0.00, 628.00 2.00, 629.00 2.0...           1  \n",
       "1  POLYGON ((261.00 0.00, 261.00 20.00, 262.00 20...           1  \n",
       "2  POLYGON ((77.00 21.00, 77.00 22.00, 73.00 22.0...           1  \n",
       "3  POLYGON ((34.00 22.00, 34.00 23.00, 33.00 23.0...           1  \n",
       "4  POLYGON ((152.00 27.00, 152.00 28.00, 149.00 2...           1  "
      ]
     },
     "execution_count": 151,
     "metadata": {},
     "output_type": "execute_result"
    }
   ],
   "source": [
    "subm_ = pd.read_csv(\"../CosmiQ_SN4_Baseline/bin/data/test_result_affine_watershed_fixed_2/prediction_affine_02.csv\")\n",
    "subm_.head(5)\n",
    "# print(len(subm))"
   ]
  },
  {
   "cell_type": "code",
   "execution_count": 154,
   "metadata": {},
   "outputs": [
    {
     "data": {
      "text/plain": [
       "40595"
      ]
     },
     "execution_count": 154,
     "metadata": {},
     "output_type": "execute_result"
    }
   ],
   "source": [
    "len(subm_)"
   ]
  },
  {
   "cell_type": "code",
   "execution_count": 127,
   "metadata": {},
   "outputs": [
    {
     "data": {
      "text/html": [
       "<div>\n",
       "<style scoped>\n",
       "    .dataframe tbody tr th:only-of-type {\n",
       "        vertical-align: middle;\n",
       "    }\n",
       "\n",
       "    .dataframe tbody tr th {\n",
       "        vertical-align: top;\n",
       "    }\n",
       "\n",
       "    .dataframe thead th {\n",
       "        text-align: right;\n",
       "    }\n",
       "</style>\n",
       "<table border=\"1\" class=\"dataframe\">\n",
       "  <thead>\n",
       "    <tr style=\"text-align: right;\">\n",
       "      <th></th>\n",
       "      <th>ImageId</th>\n",
       "      <th>BuildingId</th>\n",
       "      <th>PolygonWKT_Pix</th>\n",
       "      <th>Confidence</th>\n",
       "    </tr>\n",
       "  </thead>\n",
       "  <tbody>\n",
       "    <tr>\n",
       "      <th>0</th>\n",
       "      <td>Atlanta_nadir10_catid_1030010003993E00_733151_...</td>\n",
       "      <td>0</td>\n",
       "      <td>POLYGON ((631.00 0.00, 631.00 2.00, 632.00 2.0...</td>\n",
       "      <td>1</td>\n",
       "    </tr>\n",
       "    <tr>\n",
       "      <th>1</th>\n",
       "      <td>Atlanta_nadir10_catid_1030010003993E00_733151_...</td>\n",
       "      <td>1</td>\n",
       "      <td>POLYGON ((262.00 0.00, 262.00 6.00, 261.00 6.0...</td>\n",
       "      <td>1</td>\n",
       "    </tr>\n",
       "    <tr>\n",
       "      <th>2</th>\n",
       "      <td>Atlanta_nadir10_catid_1030010003993E00_733151_...</td>\n",
       "      <td>2</td>\n",
       "      <td>POLYGON ((77.00 22.00, 77.00 23.00, 74.00 23.0...</td>\n",
       "      <td>1</td>\n",
       "    </tr>\n",
       "    <tr>\n",
       "      <th>3</th>\n",
       "      <td>Atlanta_nadir10_catid_1030010003993E00_733151_...</td>\n",
       "      <td>3</td>\n",
       "      <td>POLYGON ((35.00 23.00, 35.00 24.00, 34.00 24.0...</td>\n",
       "      <td>1</td>\n",
       "    </tr>\n",
       "    <tr>\n",
       "      <th>4</th>\n",
       "      <td>Atlanta_nadir10_catid_1030010003993E00_733151_...</td>\n",
       "      <td>4</td>\n",
       "      <td>POLYGON ((153.00 28.00, 153.00 29.00, 150.00 2...</td>\n",
       "      <td>1</td>\n",
       "    </tr>\n",
       "  </tbody>\n",
       "</table>\n",
       "</div>"
      ],
      "text/plain": [
       "                                             ImageId  BuildingId  \\\n",
       "0  Atlanta_nadir10_catid_1030010003993E00_733151_...           0   \n",
       "1  Atlanta_nadir10_catid_1030010003993E00_733151_...           1   \n",
       "2  Atlanta_nadir10_catid_1030010003993E00_733151_...           2   \n",
       "3  Atlanta_nadir10_catid_1030010003993E00_733151_...           3   \n",
       "4  Atlanta_nadir10_catid_1030010003993E00_733151_...           4   \n",
       "\n",
       "                                      PolygonWKT_Pix  Confidence  \n",
       "0  POLYGON ((631.00 0.00, 631.00 2.00, 632.00 2.0...           1  \n",
       "1  POLYGON ((262.00 0.00, 262.00 6.00, 261.00 6.0...           1  \n",
       "2  POLYGON ((77.00 22.00, 77.00 23.00, 74.00 23.0...           1  \n",
       "3  POLYGON ((35.00 23.00, 35.00 24.00, 34.00 24.0...           1  \n",
       "4  POLYGON ((153.00 28.00, 153.00 29.00, 150.00 2...           1  "
      ]
     },
     "execution_count": 127,
     "metadata": {},
     "output_type": "execute_result"
    }
   ],
   "source": [
    "subm = pd.read_csv(\"../CosmiQ_SN4_Baseline/bin/data/test_result_affine_resize/prediction_affine_02.csv\")\n",
    "subm.head(5)"
   ]
  },
  {
   "cell_type": "code",
   "execution_count": 128,
   "metadata": {},
   "outputs": [
    {
     "data": {
      "text/plain": [
       "43328"
      ]
     },
     "execution_count": 128,
     "metadata": {},
     "output_type": "execute_result"
    }
   ],
   "source": [
    "len(subm)"
   ]
  },
  {
   "cell_type": "code",
   "execution_count": 16,
   "metadata": {},
   "outputs": [],
   "source": [
    "subm.to_csv(\"../CosmiQ_SN4_Baseline/bin/data/test_result/predictions_.csv\")"
   ]
  },
  {
   "cell_type": "code",
   "execution_count": null,
   "metadata": {},
   "outputs": [],
   "source": []
  },
  {
   "cell_type": "code",
   "execution_count": 40,
   "metadata": {},
   "outputs": [],
   "source": [
    "subm.to_csv(\"../CosmiQ_SN4_Baseline/bin/data/test_result/predictions_1.csv\", header=None)"
   ]
  },
  {
   "cell_type": "code",
   "execution_count": 73,
   "metadata": {},
   "outputs": [
    {
     "data": {
      "text/html": [
       "<div>\n",
       "<style scoped>\n",
       "    .dataframe tbody tr th:only-of-type {\n",
       "        vertical-align: middle;\n",
       "    }\n",
       "\n",
       "    .dataframe tbody tr th {\n",
       "        vertical-align: top;\n",
       "    }\n",
       "\n",
       "    .dataframe thead th {\n",
       "        text-align: right;\n",
       "    }\n",
       "</style>\n",
       "<table border=\"1\" class=\"dataframe\">\n",
       "  <thead>\n",
       "    <tr style=\"text-align: right;\">\n",
       "      <th></th>\n",
       "      <th>ImageId</th>\n",
       "      <th>BuildingId</th>\n",
       "      <th>PolygonWKT_Pix</th>\n",
       "      <th>Confidence</th>\n",
       "    </tr>\n",
       "  </thead>\n",
       "  <tbody>\n",
       "    <tr>\n",
       "      <th>0</th>\n",
       "      <td>Atlanta_nadir10_catid_1030010003993E00_733151_...</td>\n",
       "      <td>0</td>\n",
       "      <td>POLYGON ((441.00 0.00, 441.00 1.00, 440.00 1.0...</td>\n",
       "      <td>1</td>\n",
       "    </tr>\n",
       "    <tr>\n",
       "      <th>1</th>\n",
       "      <td>Atlanta_nadir10_catid_1030010003993E00_733151_...</td>\n",
       "      <td>1</td>\n",
       "      <td>POLYGON ((269.00 0.00, 269.00 1.00, 268.00 1.0...</td>\n",
       "      <td>1</td>\n",
       "    </tr>\n",
       "    <tr>\n",
       "      <th>2</th>\n",
       "      <td>Atlanta_nadir10_catid_1030010003993E00_733151_...</td>\n",
       "      <td>2</td>\n",
       "      <td>POLYGON ((645.00 4.00, 645.00 5.00, 644.00 5.0...</td>\n",
       "      <td>1</td>\n",
       "    </tr>\n",
       "    <tr>\n",
       "      <th>3</th>\n",
       "      <td>Atlanta_nadir10_catid_1030010003993E00_733151_...</td>\n",
       "      <td>3</td>\n",
       "      <td>POLYGON ((83.00 32.00, 83.00 33.00, 82.00 33.0...</td>\n",
       "      <td>1</td>\n",
       "    </tr>\n",
       "    <tr>\n",
       "      <th>4</th>\n",
       "      <td>Atlanta_nadir10_catid_1030010003993E00_733151_...</td>\n",
       "      <td>4</td>\n",
       "      <td>POLYGON ((28.00 35.00, 28.00 36.00, 25.00 36.0...</td>\n",
       "      <td>1</td>\n",
       "    </tr>\n",
       "  </tbody>\n",
       "</table>\n",
       "</div>"
      ],
      "text/plain": [
       "                                             ImageId  BuildingId  \\\n",
       "0  Atlanta_nadir10_catid_1030010003993E00_733151_...           0   \n",
       "1  Atlanta_nadir10_catid_1030010003993E00_733151_...           1   \n",
       "2  Atlanta_nadir10_catid_1030010003993E00_733151_...           2   \n",
       "3  Atlanta_nadir10_catid_1030010003993E00_733151_...           3   \n",
       "4  Atlanta_nadir10_catid_1030010003993E00_733151_...           4   \n",
       "\n",
       "                                      PolygonWKT_Pix  Confidence  \n",
       "0  POLYGON ((441.00 0.00, 441.00 1.00, 440.00 1.0...           1  \n",
       "1  POLYGON ((269.00 0.00, 269.00 1.00, 268.00 1.0...           1  \n",
       "2  POLYGON ((645.00 4.00, 645.00 5.00, 644.00 5.0...           1  \n",
       "3  POLYGON ((83.00 32.00, 83.00 33.00, 82.00 33.0...           1  \n",
       "4  POLYGON ((28.00 35.00, 28.00 36.00, 25.00 36.0...           1  "
      ]
     },
     "execution_count": 73,
     "metadata": {},
     "output_type": "execute_result"
    }
   ],
   "source": [
    "subm.head(5)"
   ]
  },
  {
   "cell_type": "code",
   "execution_count": 68,
   "metadata": {},
   "outputs": [
    {
     "data": {
      "text/html": [
       "<div>\n",
       "<style scoped>\n",
       "    .dataframe tbody tr th:only-of-type {\n",
       "        vertical-align: middle;\n",
       "    }\n",
       "\n",
       "    .dataframe tbody tr th {\n",
       "        vertical-align: top;\n",
       "    }\n",
       "\n",
       "    .dataframe thead th {\n",
       "        text-align: right;\n",
       "    }\n",
       "</style>\n",
       "<table border=\"1\" class=\"dataframe\">\n",
       "  <thead>\n",
       "    <tr style=\"text-align: right;\">\n",
       "      <th></th>\n",
       "      <th>ImageId</th>\n",
       "      <th>BuildingId</th>\n",
       "      <th>PolygonWKT_Pix</th>\n",
       "      <th>Confidence</th>\n",
       "    </tr>\n",
       "  </thead>\n",
       "  <tbody>\n",
       "  </tbody>\n",
       "</table>\n",
       "</div>"
      ],
      "text/plain": [
       "Empty DataFrame\n",
       "Columns: [ImageId, BuildingId, PolygonWKT_Pix, Confidence]\n",
       "Index: []"
      ]
     },
     "execution_count": 68,
     "metadata": {},
     "output_type": "execute_result"
    }
   ],
   "source": [
    "subm[subm['PolygonWKT_Pix'] == -1]"
   ]
  },
  {
   "cell_type": "code",
   "execution_count": 80,
   "metadata": {},
   "outputs": [
    {
     "data": {
      "text/html": [
       "<div>\n",
       "<style scoped>\n",
       "    .dataframe tbody tr th:only-of-type {\n",
       "        vertical-align: middle;\n",
       "    }\n",
       "\n",
       "    .dataframe tbody tr th {\n",
       "        vertical-align: top;\n",
       "    }\n",
       "\n",
       "    .dataframe thead th {\n",
       "        text-align: right;\n",
       "    }\n",
       "</style>\n",
       "<table border=\"1\" class=\"dataframe\">\n",
       "  <thead>\n",
       "    <tr style=\"text-align: right;\">\n",
       "      <th></th>\n",
       "      <th>ImageId</th>\n",
       "      <th>BuildingId</th>\n",
       "      <th>PolygonWKT_Pix</th>\n",
       "      <th>Confidence</th>\n",
       "    </tr>\n",
       "  </thead>\n",
       "  <tbody>\n",
       "    <tr>\n",
       "      <th>494</th>\n",
       "      <td>Atlanta_nadir10_catid_1030010003993E00_737201_...</td>\n",
       "      <td>-1</td>\n",
       "      <td>POLYGON EMPTY</td>\n",
       "      <td>1</td>\n",
       "    </tr>\n",
       "    <tr>\n",
       "      <th>9652</th>\n",
       "      <td>Atlanta_nadir19_catid_1030010003C92000_737201_...</td>\n",
       "      <td>-1</td>\n",
       "      <td>POLYGON EMPTY</td>\n",
       "      <td>1</td>\n",
       "    </tr>\n",
       "    <tr>\n",
       "      <th>13531</th>\n",
       "      <td>Atlanta_nadir23_catid_103001000352C200_734501_...</td>\n",
       "      <td>-1</td>\n",
       "      <td>POLYGON EMPTY</td>\n",
       "      <td>1</td>\n",
       "    </tr>\n",
       "    <tr>\n",
       "      <th>13532</th>\n",
       "      <td>Atlanta_nadir23_catid_103001000352C200_734501_...</td>\n",
       "      <td>-1</td>\n",
       "      <td>POLYGON EMPTY</td>\n",
       "      <td>1</td>\n",
       "    </tr>\n",
       "    <tr>\n",
       "      <th>14080</th>\n",
       "      <td>Atlanta_nadir23_catid_103001000352C200_739901_...</td>\n",
       "      <td>-1</td>\n",
       "      <td>POLYGON EMPTY</td>\n",
       "      <td>1</td>\n",
       "    </tr>\n",
       "    <tr>\n",
       "      <th>14338</th>\n",
       "      <td>Atlanta_nadir23_catid_103001000352C200_742601_...</td>\n",
       "      <td>-1</td>\n",
       "      <td>POLYGON EMPTY</td>\n",
       "      <td>1</td>\n",
       "    </tr>\n",
       "    <tr>\n",
       "      <th>15173</th>\n",
       "      <td>Atlanta_nadir23_catid_103001000352C200_747101_...</td>\n",
       "      <td>-1</td>\n",
       "      <td>POLYGON EMPTY</td>\n",
       "      <td>1</td>\n",
       "    </tr>\n",
       "    <tr>\n",
       "      <th>17501</th>\n",
       "      <td>Atlanta_nadir27_catid_1030010003472200_732251_...</td>\n",
       "      <td>-1</td>\n",
       "      <td>POLYGON EMPTY</td>\n",
       "      <td>1</td>\n",
       "    </tr>\n",
       "    <tr>\n",
       "      <th>17640</th>\n",
       "      <td>Atlanta_nadir27_catid_1030010003472200_732701_...</td>\n",
       "      <td>-1</td>\n",
       "      <td>POLYGON EMPTY</td>\n",
       "      <td>1</td>\n",
       "    </tr>\n",
       "    <tr>\n",
       "      <th>17683</th>\n",
       "      <td>Atlanta_nadir27_catid_1030010003472200_734051_...</td>\n",
       "      <td>-1</td>\n",
       "      <td>POLYGON EMPTY</td>\n",
       "      <td>1</td>\n",
       "    </tr>\n",
       "    <tr>\n",
       "      <th>17939</th>\n",
       "      <td>Atlanta_nadir27_catid_1030010003472200_736751_...</td>\n",
       "      <td>-1</td>\n",
       "      <td>POLYGON EMPTY</td>\n",
       "      <td>1</td>\n",
       "    </tr>\n",
       "    <tr>\n",
       "      <th>18672</th>\n",
       "      <td>Atlanta_nadir27_catid_1030010003472200_739451_...</td>\n",
       "      <td>-1</td>\n",
       "      <td>POLYGON EMPTY</td>\n",
       "      <td>1</td>\n",
       "    </tr>\n",
       "    <tr>\n",
       "      <th>21548</th>\n",
       "      <td>Atlanta_nadir29_catid_1030010003315300_737201_...</td>\n",
       "      <td>-1</td>\n",
       "      <td>POLYGON EMPTY</td>\n",
       "      <td>1</td>\n",
       "    </tr>\n",
       "    <tr>\n",
       "      <th>24172</th>\n",
       "      <td>Atlanta_nadir30_catid_10300100036D5200_733151_...</td>\n",
       "      <td>-1</td>\n",
       "      <td>POLYGON EMPTY</td>\n",
       "      <td>1</td>\n",
       "    </tr>\n",
       "    <tr>\n",
       "      <th>24211</th>\n",
       "      <td>Atlanta_nadir30_catid_10300100036D5200_734501_...</td>\n",
       "      <td>-1</td>\n",
       "      <td>POLYGON EMPTY</td>\n",
       "      <td>1</td>\n",
       "    </tr>\n",
       "    <tr>\n",
       "      <th>24212</th>\n",
       "      <td>Atlanta_nadir30_catid_10300100036D5200_734951_...</td>\n",
       "      <td>-1</td>\n",
       "      <td>POLYGON EMPTY</td>\n",
       "      <td>1</td>\n",
       "    </tr>\n",
       "    <tr>\n",
       "      <th>29168</th>\n",
       "      <td>Atlanta_nadir32_catid_103001000392F600_746651_...</td>\n",
       "      <td>-1</td>\n",
       "      <td>POLYGON EMPTY</td>\n",
       "      <td>1</td>\n",
       "    </tr>\n",
       "    <tr>\n",
       "      <th>29309</th>\n",
       "      <td>Atlanta_nadir32_catid_103001000392F600_748001_...</td>\n",
       "      <td>-1</td>\n",
       "      <td>POLYGON EMPTY</td>\n",
       "      <td>1</td>\n",
       "    </tr>\n",
       "    <tr>\n",
       "      <th>30243</th>\n",
       "      <td>Atlanta_nadir34_catid_1030010003697400_736751_...</td>\n",
       "      <td>-1</td>\n",
       "      <td>POLYGON EMPTY</td>\n",
       "      <td>1</td>\n",
       "    </tr>\n",
       "    <tr>\n",
       "      <th>32106</th>\n",
       "      <td>Atlanta_nadir34_catid_1030010003697400_748901_...</td>\n",
       "      <td>-1</td>\n",
       "      <td>POLYGON EMPTY</td>\n",
       "      <td>1</td>\n",
       "    </tr>\n",
       "    <tr>\n",
       "      <th>32315</th>\n",
       "      <td>Atlanta_nadir36_catid_1030010003895500_732251_...</td>\n",
       "      <td>-1</td>\n",
       "      <td>POLYGON EMPTY</td>\n",
       "      <td>1</td>\n",
       "    </tr>\n",
       "    <tr>\n",
       "      <th>39668</th>\n",
       "      <td>Atlanta_nadir42_catid_10300100035D1B00_734951_...</td>\n",
       "      <td>-1</td>\n",
       "      <td>POLYGON EMPTY</td>\n",
       "      <td>1</td>\n",
       "    </tr>\n",
       "    <tr>\n",
       "      <th>44906</th>\n",
       "      <td>Atlanta_nadir46_catid_1030010003713C00_732701_...</td>\n",
       "      <td>-1</td>\n",
       "      <td>POLYGON EMPTY</td>\n",
       "      <td>1</td>\n",
       "    </tr>\n",
       "    <tr>\n",
       "      <th>44907</th>\n",
       "      <td>Atlanta_nadir46_catid_1030010003713C00_733151_...</td>\n",
       "      <td>-1</td>\n",
       "      <td>POLYGON EMPTY</td>\n",
       "      <td>1</td>\n",
       "    </tr>\n",
       "    <tr>\n",
       "      <th>44908</th>\n",
       "      <td>Atlanta_nadir46_catid_1030010003713C00_733601_...</td>\n",
       "      <td>-1</td>\n",
       "      <td>POLYGON EMPTY</td>\n",
       "      <td>1</td>\n",
       "    </tr>\n",
       "    <tr>\n",
       "      <th>47105</th>\n",
       "      <td>Atlanta_nadir47_catid_10300100033C5200_743051_...</td>\n",
       "      <td>-1</td>\n",
       "      <td>POLYGON EMPTY</td>\n",
       "      <td>1</td>\n",
       "    </tr>\n",
       "    <tr>\n",
       "      <th>51921</th>\n",
       "      <td>Atlanta_nadir50_catid_10300100039E6200_745751_...</td>\n",
       "      <td>-1</td>\n",
       "      <td>POLYGON EMPTY</td>\n",
       "      <td>1</td>\n",
       "    </tr>\n",
       "    <tr>\n",
       "      <th>54670</th>\n",
       "      <td>Atlanta_nadir53_catid_1030010003193D00_732251_...</td>\n",
       "      <td>-1</td>\n",
       "      <td>POLYGON EMPTY</td>\n",
       "      <td>1</td>\n",
       "    </tr>\n",
       "  </tbody>\n",
       "</table>\n",
       "</div>"
      ],
      "text/plain": [
       "                                                 ImageId  BuildingId  \\\n",
       "494    Atlanta_nadir10_catid_1030010003993E00_737201_...          -1   \n",
       "9652   Atlanta_nadir19_catid_1030010003C92000_737201_...          -1   \n",
       "13531  Atlanta_nadir23_catid_103001000352C200_734501_...          -1   \n",
       "13532  Atlanta_nadir23_catid_103001000352C200_734501_...          -1   \n",
       "14080  Atlanta_nadir23_catid_103001000352C200_739901_...          -1   \n",
       "14338  Atlanta_nadir23_catid_103001000352C200_742601_...          -1   \n",
       "15173  Atlanta_nadir23_catid_103001000352C200_747101_...          -1   \n",
       "17501  Atlanta_nadir27_catid_1030010003472200_732251_...          -1   \n",
       "17640  Atlanta_nadir27_catid_1030010003472200_732701_...          -1   \n",
       "17683  Atlanta_nadir27_catid_1030010003472200_734051_...          -1   \n",
       "17939  Atlanta_nadir27_catid_1030010003472200_736751_...          -1   \n",
       "18672  Atlanta_nadir27_catid_1030010003472200_739451_...          -1   \n",
       "21548  Atlanta_nadir29_catid_1030010003315300_737201_...          -1   \n",
       "24172  Atlanta_nadir30_catid_10300100036D5200_733151_...          -1   \n",
       "24211  Atlanta_nadir30_catid_10300100036D5200_734501_...          -1   \n",
       "24212  Atlanta_nadir30_catid_10300100036D5200_734951_...          -1   \n",
       "29168  Atlanta_nadir32_catid_103001000392F600_746651_...          -1   \n",
       "29309  Atlanta_nadir32_catid_103001000392F600_748001_...          -1   \n",
       "30243  Atlanta_nadir34_catid_1030010003697400_736751_...          -1   \n",
       "32106  Atlanta_nadir34_catid_1030010003697400_748901_...          -1   \n",
       "32315  Atlanta_nadir36_catid_1030010003895500_732251_...          -1   \n",
       "39668  Atlanta_nadir42_catid_10300100035D1B00_734951_...          -1   \n",
       "44906  Atlanta_nadir46_catid_1030010003713C00_732701_...          -1   \n",
       "44907  Atlanta_nadir46_catid_1030010003713C00_733151_...          -1   \n",
       "44908  Atlanta_nadir46_catid_1030010003713C00_733601_...          -1   \n",
       "47105  Atlanta_nadir47_catid_10300100033C5200_743051_...          -1   \n",
       "51921  Atlanta_nadir50_catid_10300100039E6200_745751_...          -1   \n",
       "54670  Atlanta_nadir53_catid_1030010003193D00_732251_...          -1   \n",
       "\n",
       "      PolygonWKT_Pix  Confidence  \n",
       "494    POLYGON EMPTY           1  \n",
       "9652   POLYGON EMPTY           1  \n",
       "13531  POLYGON EMPTY           1  \n",
       "13532  POLYGON EMPTY           1  \n",
       "14080  POLYGON EMPTY           1  \n",
       "14338  POLYGON EMPTY           1  \n",
       "15173  POLYGON EMPTY           1  \n",
       "17501  POLYGON EMPTY           1  \n",
       "17640  POLYGON EMPTY           1  \n",
       "17683  POLYGON EMPTY           1  \n",
       "17939  POLYGON EMPTY           1  \n",
       "18672  POLYGON EMPTY           1  \n",
       "21548  POLYGON EMPTY           1  \n",
       "24172  POLYGON EMPTY           1  \n",
       "24211  POLYGON EMPTY           1  \n",
       "24212  POLYGON EMPTY           1  \n",
       "29168  POLYGON EMPTY           1  \n",
       "29309  POLYGON EMPTY           1  \n",
       "30243  POLYGON EMPTY           1  \n",
       "32106  POLYGON EMPTY           1  \n",
       "32315  POLYGON EMPTY           1  \n",
       "39668  POLYGON EMPTY           1  \n",
       "44906  POLYGON EMPTY           1  \n",
       "44907  POLYGON EMPTY           1  \n",
       "44908  POLYGON EMPTY           1  \n",
       "47105  POLYGON EMPTY           1  \n",
       "51921  POLYGON EMPTY           1  \n",
       "54670  POLYGON EMPTY           1  "
      ]
     },
     "execution_count": 80,
     "metadata": {},
     "output_type": "execute_result"
    }
   ],
   "source": [
    "subm[subm[\"BuildingId\"] == -1]"
   ]
  },
  {
   "cell_type": "code",
   "execution_count": 13,
   "metadata": {},
   "outputs": [
    {
     "data": {
      "text/plain": [
       "62699"
      ]
     },
     "execution_count": 13,
     "metadata": {},
     "output_type": "execute_result"
    }
   ],
   "source": [
    "len(subm)"
   ]
  },
  {
   "cell_type": "code",
   "execution_count": 14,
   "metadata": {},
   "outputs": [],
   "source": [
    "subm[\"ImageId\"] = [i.split(\"/\")[-1].replace(\"8bit_\", \"\").replace(\".jpg\", \"\") for i in subm[\"ImageId\"].values]"
   ]
  },
  {
   "cell_type": "code",
   "execution_count": 9,
   "metadata": {},
   "outputs": [
    {
     "data": {
      "text/plain": [
       "'Atlanta_nadir10_catid_1030010003993E00_733151_3735939'"
      ]
     },
     "execution_count": 9,
     "metadata": {},
     "output_type": "execute_result"
    }
   ],
   "source": [
    "\"8bit_Atlanta_nadir10_catid_1030010003993E00_733151_3735939.jpg\".replace(\"8bit_\", \"\").replace(\".jpg\", \"\")"
   ]
  },
  {
   "cell_type": "code",
   "execution_count": 31,
   "metadata": {},
   "outputs": [],
   "source": [
    "polygons = []\n",
    "for index, row in subm.iterrows():\n",
    "    polygons.append(wkt.loads(subm.at[index, 'PolygonWKT_Pix']))"
   ]
  },
  {
   "cell_type": "code",
   "execution_count": 71,
   "metadata": {},
   "outputs": [
    {
     "data": {
      "image/svg+xml": [
       "<svg xmlns=\"http://www.w3.org/2000/svg\" xmlns:xlink=\"http://www.w3.org/1999/xlink\" width=\"100.0\" height=\"100.0\" viewBox=\"265.28 807.28 12.440000000000055 19.440000000000055\" preserveAspectRatio=\"xMinYMin meet\"><g transform=\"matrix(1,0,0,-1,0,1634.0)\"><path fill-rule=\"evenodd\" fill=\"#66cc99\" stroke=\"#555555\" stroke-width=\"0.3888000000000011\" opacity=\"0.6\" d=\"M 268.0,808.0 L 268.0,809.0 L 266.0,809.0 L 266.0,819.0 L 267.0,819.0 L 267.0,824.0 L 268.0,824.0 L 268.0,826.0 L 269.0,826.0 L 269.0,825.0 L 270.0,825.0 L 270.0,824.0 L 271.0,824.0 L 271.0,822.0 L 272.0,822.0 L 272.0,821.0 L 274.0,821.0 L 274.0,820.0 L 276.0,820.0 L 276.0,818.0 L 277.0,818.0 L 277.0,811.0 L 276.0,811.0 L 276.0,809.0 L 274.0,809.0 L 274.0,808.0 L 268.0,808.0 z\" /></g></svg>"
      ],
      "text/plain": [
       "<shapely.geometry.polygon.Polygon at 0x7f28044bd278>"
      ]
     },
     "execution_count": 71,
     "metadata": {},
     "output_type": "execute_result"
    }
   ],
   "source": [
    "polygons[50]"
   ]
  },
  {
   "cell_type": "code",
   "execution_count": 49,
   "metadata": {},
   "outputs": [
    {
     "data": {
      "text/plain": [
       "927"
      ]
     },
     "execution_count": 49,
     "metadata": {},
     "output_type": "execute_result"
    }
   ],
   "source": [
    "subm['ImageId'].nunique()"
   ]
  },
  {
   "cell_type": "code",
   "execution_count": 57,
   "metadata": {},
   "outputs": [],
   "source": [
    "sum_data = pd.read_csv(\"../data/train/summaryData/Atlanta_nadir49_catid_1030010003492700_Train.csv\", index_col=\"Unnamed: 0\")"
   ]
  },
  {
   "cell_type": "code",
   "execution_count": 58,
   "metadata": {},
   "outputs": [
    {
     "data": {
      "text/html": [
       "<div>\n",
       "<style scoped>\n",
       "    .dataframe tbody tr th:only-of-type {\n",
       "        vertical-align: middle;\n",
       "    }\n",
       "\n",
       "    .dataframe tbody tr th {\n",
       "        vertical-align: top;\n",
       "    }\n",
       "\n",
       "    .dataframe thead th {\n",
       "        text-align: right;\n",
       "    }\n",
       "</style>\n",
       "<table border=\"1\" class=\"dataframe\">\n",
       "  <thead>\n",
       "    <tr style=\"text-align: right;\">\n",
       "      <th></th>\n",
       "      <th>ImageId</th>\n",
       "      <th>BuildingId</th>\n",
       "      <th>PolygonWKT_Pix</th>\n",
       "      <th>PolygonWKT_Geo</th>\n",
       "    </tr>\n",
       "  </thead>\n",
       "  <tbody>\n",
       "    <tr>\n",
       "      <th>0</th>\n",
       "      <td>Atlanta_nadir49_catid_1030010003492700_743051_...</td>\n",
       "      <td>0</td>\n",
       "      <td>POLYGON ((484.768 900.000, 485.379 898.427, 49...</td>\n",
       "      <td>1</td>\n",
       "    </tr>\n",
       "    <tr>\n",
       "      <th>1</th>\n",
       "      <td>Atlanta_nadir49_catid_1030010003492700_743051_...</td>\n",
       "      <td>1</td>\n",
       "      <td>POLYGON ((58.747 900.000, 58.988 869.371, 53.6...</td>\n",
       "      <td>1</td>\n",
       "    </tr>\n",
       "    <tr>\n",
       "      <th>2</th>\n",
       "      <td>Atlanta_nadir49_catid_1030010003492700_743051_...</td>\n",
       "      <td>2</td>\n",
       "      <td>POLYGON ((287.643 900.000, 287.448 890.881, 29...</td>\n",
       "      <td>1</td>\n",
       "    </tr>\n",
       "    <tr>\n",
       "      <th>3</th>\n",
       "      <td>Atlanta_nadir49_catid_1030010003492700_743051_...</td>\n",
       "      <td>3</td>\n",
       "      <td>POLYGON ((491.034 866.340, 502.470 866.049, 50...</td>\n",
       "      <td>1</td>\n",
       "    </tr>\n",
       "    <tr>\n",
       "      <th>4</th>\n",
       "      <td>Atlanta_nadir49_catid_1030010003492700_743051_...</td>\n",
       "      <td>4</td>\n",
       "      <td>POLYGON ((352.053 868.636, 352.786 838.429, 37...</td>\n",
       "      <td>1</td>\n",
       "    </tr>\n",
       "  </tbody>\n",
       "</table>\n",
       "</div>"
      ],
      "text/plain": [
       "                                             ImageId  BuildingId  \\\n",
       "0  Atlanta_nadir49_catid_1030010003492700_743051_...           0   \n",
       "1  Atlanta_nadir49_catid_1030010003492700_743051_...           1   \n",
       "2  Atlanta_nadir49_catid_1030010003492700_743051_...           2   \n",
       "3  Atlanta_nadir49_catid_1030010003492700_743051_...           3   \n",
       "4  Atlanta_nadir49_catid_1030010003492700_743051_...           4   \n",
       "\n",
       "                                      PolygonWKT_Pix PolygonWKT_Geo  \n",
       "0  POLYGON ((484.768 900.000, 485.379 898.427, 49...              1  \n",
       "1  POLYGON ((58.747 900.000, 58.988 869.371, 53.6...              1  \n",
       "2  POLYGON ((287.643 900.000, 287.448 890.881, 29...              1  \n",
       "3  POLYGON ((491.034 866.340, 502.470 866.049, 50...              1  \n",
       "4  POLYGON ((352.053 868.636, 352.786 838.429, 37...              1  "
      ]
     },
     "execution_count": 58,
     "metadata": {},
     "output_type": "execute_result"
    }
   ],
   "source": [
    "sum_data.head(5)"
   ]
  },
  {
   "cell_type": "code",
   "execution_count": 65,
   "metadata": {},
   "outputs": [
    {
     "data": {
      "text/plain": [
       "'POLYGON ((484.768 900.000, 485.379 898.427, 490.289 895.327, 498.722 894.380, 499.076 898.811, 499.346 900.000, 484.768 900.000))'"
      ]
     },
     "execution_count": 65,
     "metadata": {},
     "output_type": "execute_result"
    }
   ],
   "source": [
    "sum_data.at[0, 'PolygonWKT_Pix']"
   ]
  },
  {
   "cell_type": "code",
   "execution_count": 66,
   "metadata": {},
   "outputs": [
    {
     "data": {
      "text/plain": [
       "'POLYGON ((441.00 0.00, 441.00 1.00, 440.00 1.00, 440.00 3.00, 441.00 3.00, 441.00 4.00, 442.00 4.00, 442.00 5.00, 446.00 5.00, 446.00 6.00, 448.00 6.00, 448.00 5.00, 449.00 5.00, 449.00 0.00, 441.00 0.00))'"
      ]
     },
     "execution_count": 66,
     "metadata": {},
     "output_type": "execute_result"
    }
   ],
   "source": [
    "subm.at[0, 'PolygonWKT_Pix']"
   ]
  },
  {
   "cell_type": "code",
   "execution_count": 72,
   "metadata": {},
   "outputs": [],
   "source": [
    "images = [\"Atlanta_nadir10_catid_1030010003993E00_733601_3724689\",\n",
    "          \"Atlanta_nadir50_catid_10300100039E6200_747101_3741339\"]"
   ]
  },
  {
   "cell_type": "code",
   "execution_count": 83,
   "metadata": {},
   "outputs": [],
   "source": [
    "test_submission = pd.DataFrame(columns=[\"ImageId\", \"BuildingId\", \"PolygonWKT_Pix\", \"Confidence\"])\n",
    "test_submission[\"ImageId\"] = images\n",
    "test_submission[\"BuildingId\"] = [-1, -1]\n",
    "test_submission[\"PolygonWKT_Pix\"] = [\"POLYGON EMPTY\", \"POLYGON EMPTY\"]\n",
    "test_submission[\"Confidence\"] = [1, 1]\n",
    "test_submission.to_csv(\"../CosmiQ_SN4_Baseline/bin/data/test_result/sample_submission.csv\", index=False)"
   ]
  },
  {
   "cell_type": "code",
   "execution_count": 84,
   "metadata": {},
   "outputs": [
    {
     "data": {
      "text/html": [
       "<div>\n",
       "<style scoped>\n",
       "    .dataframe tbody tr th:only-of-type {\n",
       "        vertical-align: middle;\n",
       "    }\n",
       "\n",
       "    .dataframe tbody tr th {\n",
       "        vertical-align: top;\n",
       "    }\n",
       "\n",
       "    .dataframe thead th {\n",
       "        text-align: right;\n",
       "    }\n",
       "</style>\n",
       "<table border=\"1\" class=\"dataframe\">\n",
       "  <thead>\n",
       "    <tr style=\"text-align: right;\">\n",
       "      <th></th>\n",
       "      <th>ImageId</th>\n",
       "      <th>BuildingId</th>\n",
       "      <th>PolygonWKT_Pix</th>\n",
       "      <th>Confidence</th>\n",
       "    </tr>\n",
       "  </thead>\n",
       "  <tbody>\n",
       "    <tr>\n",
       "      <th>0</th>\n",
       "      <td>Atlanta_nadir10_catid_1030010003993E00_733601_...</td>\n",
       "      <td>-1</td>\n",
       "      <td>POLYGON EMPTY</td>\n",
       "      <td>1</td>\n",
       "    </tr>\n",
       "    <tr>\n",
       "      <th>1</th>\n",
       "      <td>Atlanta_nadir50_catid_10300100039E6200_747101_...</td>\n",
       "      <td>-1</td>\n",
       "      <td>POLYGON EMPTY</td>\n",
       "      <td>1</td>\n",
       "    </tr>\n",
       "  </tbody>\n",
       "</table>\n",
       "</div>"
      ],
      "text/plain": [
       "                                             ImageId  BuildingId  \\\n",
       "0  Atlanta_nadir10_catid_1030010003993E00_733601_...          -1   \n",
       "1  Atlanta_nadir50_catid_10300100039E6200_747101_...          -1   \n",
       "\n",
       "  PolygonWKT_Pix  Confidence  \n",
       "0  POLYGON EMPTY           1  \n",
       "1  POLYGON EMPTY           1  "
      ]
     },
     "execution_count": 84,
     "metadata": {},
     "output_type": "execute_result"
    }
   ],
   "source": [
    "test_submission"
   ]
  },
  {
   "cell_type": "code",
   "execution_count": 120,
   "metadata": {},
   "outputs": [],
   "source": [
    "sample_2 = pd.read_csv(\"../CosmiQ_SN4_Baseline/bin/data/test_result/sample_prediction_2.csv\")"
   ]
  },
  {
   "cell_type": "code",
   "execution_count": 121,
   "metadata": {},
   "outputs": [
    {
     "data": {
      "text/html": [
       "<div>\n",
       "<style scoped>\n",
       "    .dataframe tbody tr th:only-of-type {\n",
       "        vertical-align: middle;\n",
       "    }\n",
       "\n",
       "    .dataframe tbody tr th {\n",
       "        vertical-align: top;\n",
       "    }\n",
       "\n",
       "    .dataframe thead th {\n",
       "        text-align: right;\n",
       "    }\n",
       "</style>\n",
       "<table border=\"1\" class=\"dataframe\">\n",
       "  <thead>\n",
       "    <tr style=\"text-align: right;\">\n",
       "      <th></th>\n",
       "      <th>ImageId</th>\n",
       "      <th>BuildingId</th>\n",
       "      <th>PolygonWKT_Pix</th>\n",
       "      <th>Confidence</th>\n",
       "    </tr>\n",
       "  </thead>\n",
       "  <tbody>\n",
       "    <tr>\n",
       "      <th>0</th>\n",
       "      <td>Atlanta_nadir10_catid_1030010003993E00_733601_...</td>\n",
       "      <td>0</td>\n",
       "      <td>POLYGON ((2.00 2.00, 2.00 3.00, 0.00 3.00, 0.0...</td>\n",
       "      <td>1</td>\n",
       "    </tr>\n",
       "    <tr>\n",
       "      <th>1</th>\n",
       "      <td>Atlanta_nadir10_catid_1030010003993E00_733601_...</td>\n",
       "      <td>1</td>\n",
       "      <td>POLYGON ((795.00 0.00, 795.00 15.00, 796.00 15...</td>\n",
       "      <td>1</td>\n",
       "    </tr>\n",
       "    <tr>\n",
       "      <th>2</th>\n",
       "      <td>Atlanta_nadir10_catid_1030010003993E00_733601_...</td>\n",
       "      <td>2</td>\n",
       "      <td>POLYGON ((455.00 0.00, 455.00 2.00, 454.00 2.0...</td>\n",
       "      <td>1</td>\n",
       "    </tr>\n",
       "    <tr>\n",
       "      <th>3</th>\n",
       "      <td>Atlanta_nadir10_catid_1030010003993E00_733601_...</td>\n",
       "      <td>3</td>\n",
       "      <td>POLYGON ((442.00 39.00, 442.00 40.00, 437.00 4...</td>\n",
       "      <td>1</td>\n",
       "    </tr>\n",
       "    <tr>\n",
       "      <th>4</th>\n",
       "      <td>Atlanta_nadir10_catid_1030010003993E00_733601_...</td>\n",
       "      <td>4</td>\n",
       "      <td>POLYGON ((558.00 84.00, 558.00 85.00, 557.00 8...</td>\n",
       "      <td>1</td>\n",
       "    </tr>\n",
       "  </tbody>\n",
       "</table>\n",
       "</div>"
      ],
      "text/plain": [
       "                                             ImageId  BuildingId  \\\n",
       "0  Atlanta_nadir10_catid_1030010003993E00_733601_...           0   \n",
       "1  Atlanta_nadir10_catid_1030010003993E00_733601_...           1   \n",
       "2  Atlanta_nadir10_catid_1030010003993E00_733601_...           2   \n",
       "3  Atlanta_nadir10_catid_1030010003993E00_733601_...           3   \n",
       "4  Atlanta_nadir10_catid_1030010003993E00_733601_...           4   \n",
       "\n",
       "                                      PolygonWKT_Pix  Confidence  \n",
       "0  POLYGON ((2.00 2.00, 2.00 3.00, 0.00 3.00, 0.0...           1  \n",
       "1  POLYGON ((795.00 0.00, 795.00 15.00, 796.00 15...           1  \n",
       "2  POLYGON ((455.00 0.00, 455.00 2.00, 454.00 2.0...           1  \n",
       "3  POLYGON ((442.00 39.00, 442.00 40.00, 437.00 4...           1  \n",
       "4  POLYGON ((558.00 84.00, 558.00 85.00, 557.00 8...           1  "
      ]
     },
     "execution_count": 121,
     "metadata": {},
     "output_type": "execute_result"
    }
   ],
   "source": [
    "sample_2.head(5)"
   ]
  },
  {
   "cell_type": "code",
   "execution_count": 122,
   "metadata": {},
   "outputs": [
    {
     "data": {
      "text/plain": [
       "array(['Atlanta_nadir10_catid_1030010003993E00_733601_3724689',\n",
       "       'Atlanta_nadir10_catid_1030010003993E00_733601_3724689',\n",
       "       'Atlanta_nadir10_catid_1030010003993E00_733601_3724689',\n",
       "       'Atlanta_nadir10_catid_1030010003993E00_733601_3724689',\n",
       "       'Atlanta_nadir10_catid_1030010003993E00_733601_3724689',\n",
       "       'Atlanta_nadir10_catid_1030010003993E00_733601_3724689',\n",
       "       'Atlanta_nadir10_catid_1030010003993E00_733601_3724689',\n",
       "       'Atlanta_nadir10_catid_1030010003993E00_733601_3724689',\n",
       "       'Atlanta_nadir10_catid_1030010003993E00_733601_3724689',\n",
       "       'Atlanta_nadir10_catid_1030010003993E00_733601_3724689',\n",
       "       'Atlanta_nadir10_catid_1030010003993E00_733601_3724689',\n",
       "       'Atlanta_nadir10_catid_1030010003993E00_733601_3724689',\n",
       "       'Atlanta_nadir10_catid_1030010003993E00_733601_3724689',\n",
       "       'Atlanta_nadir10_catid_1030010003993E00_733601_3724689',\n",
       "       'Atlanta_nadir10_catid_1030010003993E00_733601_3724689',\n",
       "       'Atlanta_nadir10_catid_1030010003993E00_733601_3724689',\n",
       "       'Atlanta_nadir10_catid_1030010003993E00_733601_3724689',\n",
       "       'Atlanta_nadir10_catid_1030010003993E00_733601_3724689',\n",
       "       'Atlanta_nadir10_catid_1030010003993E00_733601_3724689',\n",
       "       'Atlanta_nadir10_catid_1030010003993E00_733601_3724689',\n",
       "       'Atlanta_nadir10_catid_1030010003993E00_733601_3724689',\n",
       "       'Atlanta_nadir10_catid_1030010003993E00_733601_3724689',\n",
       "       'Atlanta_nadir10_catid_1030010003993E00_733601_3724689',\n",
       "       'Atlanta_nadir10_catid_1030010003993E00_733601_3724689',\n",
       "       'Atlanta_nadir10_catid_1030010003993E00_733601_3724689',\n",
       "       'Atlanta_nadir10_catid_1030010003993E00_733601_3724689',\n",
       "       'Atlanta_nadir10_catid_1030010003993E00_733601_3724689',\n",
       "       'Atlanta_nadir10_catid_1030010003993E00_733601_3724689',\n",
       "       'Atlanta_nadir50_catid_10300100039E6200_747101_3741339',\n",
       "       'Atlanta_nadir50_catid_10300100039E6200_747101_3741339',\n",
       "       'Atlanta_nadir50_catid_10300100039E6200_747101_3741339',\n",
       "       'Atlanta_nadir50_catid_10300100039E6200_747101_3741339',\n",
       "       'Atlanta_nadir50_catid_10300100039E6200_747101_3741339',\n",
       "       'Atlanta_nadir50_catid_10300100039E6200_747101_3741339',\n",
       "       'Atlanta_nadir50_catid_10300100039E6200_747101_3741339',\n",
       "       'Atlanta_nadir50_catid_10300100039E6200_747101_3741339',\n",
       "       'Atlanta_nadir50_catid_10300100039E6200_747101_3741339',\n",
       "       'Atlanta_nadir50_catid_10300100039E6200_747101_3741339',\n",
       "       'Atlanta_nadir50_catid_10300100039E6200_747101_3741339',\n",
       "       'Atlanta_nadir50_catid_10300100039E6200_747101_3741339',\n",
       "       'Atlanta_nadir50_catid_10300100039E6200_747101_3741339',\n",
       "       'Atlanta_nadir50_catid_10300100039E6200_747101_3741339',\n",
       "       'Atlanta_nadir50_catid_10300100039E6200_747101_3741339'],\n",
       "      dtype=object)"
      ]
     },
     "execution_count": 122,
     "metadata": {},
     "output_type": "execute_result"
    }
   ],
   "source": [
    "sample_2[\"ImageId\"].values"
   ]
  },
  {
   "cell_type": "code",
   "execution_count": 88,
   "metadata": {},
   "outputs": [],
   "source": [
    "sample = pd.read_csv(\"../CosmiQ_SN4_Baseline/bin/data/test_result/sample_prediction.csv\")"
   ]
  },
  {
   "cell_type": "code",
   "execution_count": 92,
   "metadata": {},
   "outputs": [
    {
     "data": {
      "text/html": [
       "<div>\n",
       "<style scoped>\n",
       "    .dataframe tbody tr th:only-of-type {\n",
       "        vertical-align: middle;\n",
       "    }\n",
       "\n",
       "    .dataframe tbody tr th {\n",
       "        vertical-align: top;\n",
       "    }\n",
       "\n",
       "    .dataframe thead th {\n",
       "        text-align: right;\n",
       "    }\n",
       "</style>\n",
       "<table border=\"1\" class=\"dataframe\">\n",
       "  <thead>\n",
       "    <tr style=\"text-align: right;\">\n",
       "      <th></th>\n",
       "      <th>ImageId</th>\n",
       "      <th>BuildingId</th>\n",
       "      <th>PolygonWKT_Pix</th>\n",
       "      <th>Confidence</th>\n",
       "    </tr>\n",
       "  </thead>\n",
       "  <tbody>\n",
       "    <tr>\n",
       "      <th>0</th>\n",
       "      <td>Atlanta_nadir10_catid_1030010003993E00_733601_...</td>\n",
       "      <td>0</td>\n",
       "      <td>POLYGON ((616.00 20.00, 616.00 21.00, 614.00 2...</td>\n",
       "      <td>1</td>\n",
       "    </tr>\n",
       "    <tr>\n",
       "      <th>1</th>\n",
       "      <td>Atlanta_nadir10_catid_1030010003993E00_733601_...</td>\n",
       "      <td>1</td>\n",
       "      <td>POLYGON ((454.00 0.00, 454.00 3.00, 453.00 3.0...</td>\n",
       "      <td>1</td>\n",
       "    </tr>\n",
       "    <tr>\n",
       "      <th>2</th>\n",
       "      <td>Atlanta_nadir10_catid_1030010003993E00_733601_...</td>\n",
       "      <td>2</td>\n",
       "      <td>POLYGON ((795.00 0.00, 795.00 1.00, 794.00 1.0...</td>\n",
       "      <td>1</td>\n",
       "    </tr>\n",
       "    <tr>\n",
       "      <th>3</th>\n",
       "      <td>Atlanta_nadir10_catid_1030010003993E00_733601_...</td>\n",
       "      <td>3</td>\n",
       "      <td>POLYGON ((131.00 74.00, 131.00 75.00, 130.00 7...</td>\n",
       "      <td>1</td>\n",
       "    </tr>\n",
       "    <tr>\n",
       "      <th>4</th>\n",
       "      <td>Atlanta_nadir10_catid_1030010003993E00_733601_...</td>\n",
       "      <td>4</td>\n",
       "      <td>POLYGON ((442.00 40.00, 442.00 41.00, 439.00 4...</td>\n",
       "      <td>1</td>\n",
       "    </tr>\n",
       "  </tbody>\n",
       "</table>\n",
       "</div>"
      ],
      "text/plain": [
       "                                             ImageId  BuildingId  \\\n",
       "0  Atlanta_nadir10_catid_1030010003993E00_733601_...           0   \n",
       "1  Atlanta_nadir10_catid_1030010003993E00_733601_...           1   \n",
       "2  Atlanta_nadir10_catid_1030010003993E00_733601_...           2   \n",
       "3  Atlanta_nadir10_catid_1030010003993E00_733601_...           3   \n",
       "4  Atlanta_nadir10_catid_1030010003993E00_733601_...           4   \n",
       "\n",
       "                                      PolygonWKT_Pix  Confidence  \n",
       "0  POLYGON ((616.00 20.00, 616.00 21.00, 614.00 2...           1  \n",
       "1  POLYGON ((454.00 0.00, 454.00 3.00, 453.00 3.0...           1  \n",
       "2  POLYGON ((795.00 0.00, 795.00 1.00, 794.00 1.0...           1  \n",
       "3  POLYGON ((131.00 74.00, 131.00 75.00, 130.00 7...           1  \n",
       "4  POLYGON ((442.00 40.00, 442.00 41.00, 439.00 4...           1  "
      ]
     },
     "execution_count": 92,
     "metadata": {},
     "output_type": "execute_result"
    }
   ],
   "source": [
    "sample.head(5)"
   ]
  },
  {
   "cell_type": "code",
   "execution_count": 91,
   "metadata": {},
   "outputs": [],
   "source": [
    "sample[\"ImageId\"] = [i.split(\"/\")[-1].lstrip(\"8bit_\").rstrip(\".jpg\") for i in sample[\"ImageId\"].values]"
   ]
  },
  {
   "cell_type": "code",
   "execution_count": 94,
   "metadata": {},
   "outputs": [],
   "source": [
    "sample.to_csv(\"../CosmiQ_SN4_Baseline/bin/data/test_result/sample_true.csv\", index=False)"
   ]
  },
  {
   "cell_type": "code",
   "execution_count": 95,
   "metadata": {},
   "outputs": [
    {
     "data": {
      "text/plain": [
       "'POLYGON ((616.00 20.00, 616.00 21.00, 614.00 21.00, 614.00 26.00, 618.00 26.00, 618.00 25.00, 621.00 25.00, 621.00 24.00, 622.00 24.00, 622.00 23.00, 620.00 23.00, 620.00 22.00, 619.00 22.00, 619.00 21.00, 618.00 21.00, 618.00 20.00, 616.00 20.00))'"
      ]
     },
     "execution_count": 95,
     "metadata": {},
     "output_type": "execute_result"
    }
   ],
   "source": [
    "sample.at[0, \"PolygonWKT_Pix\"]"
   ]
  },
  {
   "cell_type": "code",
   "execution_count": 110,
   "metadata": {},
   "outputs": [],
   "source": [
    "import os"
   ]
  },
  {
   "cell_type": "code",
   "execution_count": 111,
   "metadata": {},
   "outputs": [],
   "source": [
    "root_fdlr = \"/mnt/storage_4tb/ymi/spacenet/data/test/SpaceNet-Off-Nadir_Test_Public/\""
   ]
  },
  {
   "cell_type": "code",
   "execution_count": 112,
   "metadata": {},
   "outputs": [],
   "source": [
    "fldrs = os.listdir(root_fdlr)\n",
    "for folder in fldrs:\n",
    "    path = os.path.join(root_fdlr, folder, \"jpegs\")\n",
    "    for file in os.listdir(path):\n",
    "        if file.endswith(\".json\"):\n",
    "            os.remove(os.path.join(path, file))"
   ]
  },
  {
   "cell_type": "code",
   "execution_count": null,
   "metadata": {},
   "outputs": [],
   "source": []
  }
 ],
 "metadata": {
  "kernelspec": {
   "display_name": "Python 3",
   "language": "python",
   "name": "python3"
  },
  "language_info": {
   "codemirror_mode": {
    "name": "ipython",
    "version": 3
   },
   "file_extension": ".py",
   "mimetype": "text/x-python",
   "name": "python",
   "nbconvert_exporter": "python",
   "pygments_lexer": "ipython3",
   "version": "3.5.2"
  }
 },
 "nbformat": 4,
 "nbformat_minor": 2
}
