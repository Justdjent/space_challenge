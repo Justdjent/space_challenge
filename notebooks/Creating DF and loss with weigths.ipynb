{
 "cells": [
  {
   "cell_type": "code",
   "execution_count": 1,
   "metadata": {},
   "outputs": [],
   "source": [
    "import pandas as pd\n",
    "import numpy as np\n",
    "import matplotlib.pyplot as plt\n",
    "from shutil import copyfile\n",
    "from PIL import Image\n",
    "%matplotlib inline\n",
    "import matplotlib.pyplot as plt\n",
    "import os\n",
    "import skimage.io as io\n",
    "from sklearn.model_selection import train_test_split"
   ]
  },
  {
   "cell_type": "code",
   "execution_count": 10,
   "metadata": {},
   "outputs": [],
   "source": [
    "def get_dataframe(root_fldr, weight=1, manual=1):\n",
    "#     root_folder = \"../data\"\n",
    "    fldrs = []\n",
    "    for i in os.listdir(root_fldr):\n",
    "        if i.startswith('Atlanta') and os.path.isdir(os.path.join(root_fldr, i)):\n",
    "            fldrs.append(i)\n",
    "    \n",
    "    full_df = pd.DataFrame(columns=['name', 'weight', 'catid', 'nadir', 'tangent', 'folder', 'nadir_cat'])\n",
    "    for folder in fldrs:\n",
    "        fldr_path = os.path.join(root_fldr, folder)\n",
    "        inside = os.listdir(fldr_path)\n",
    "        if len(inside) > 2:\n",
    "            if manual == 0:\n",
    "                msk_dir = 'masks'\n",
    "            else:\n",
    "                msk_dir = 'masks'\n",
    "            try:\n",
    "                path_msk = os.path.join(fldr_path, msk_dir)\n",
    "                filenames = os.listdir(path_msk)\n",
    "            except:\n",
    "                print(\"Searching jpegs\")\n",
    "                path_msk = os.path.join(fldr_path, 'jpegs')\n",
    "                filenames = os.listdir(path_msk)\n",
    "            print(\"ho\")\n",
    "            weights = np.full((len(filenames)), weight)\n",
    "            df = pd.DataFrame(columns=['name', 'weight', 'catid', 'nadir', 'tangent', 'folder', 'nadir_cat'])\n",
    "            # df['name'] = [os.path.join(path_msk, n) for n in filenames]\n",
    "            df['name'] = filenames\n",
    "            df['weight'] = weights\n",
    "            df['manual'] = manual\n",
    "            df['folder'] = folder\n",
    "            df['catid'] = folder.split(\"_\")[-1]\n",
    "            df['nadir'] = 7\n",
    "            df['tangent'] = 120\n",
    "            df['nadir_cat'] = 'unknown'\n",
    "            full_df = pd.concat([full_df, df])\n",
    "    #full_df['grove'] = [i.split('/')[-1].split('_')[0] if i.split('/')[-1].split('_')[1] == 'nrg' else i.split('/')[-1].split('_')[0] + '_' + i.split('/')[-1].split('_')[1] for i in full_df['name']]\n",
    "    return full_df"
   ]
  },
  {
   "cell_type": "code",
   "execution_count": 3,
   "metadata": {},
   "outputs": [
    {
     "name": "stderr",
     "output_type": "stream",
     "text": [
      "/home/user/.virtualenvs/cv34/lib/python3.5/site-packages/ipykernel_launcher.py:34: FutureWarning: Sorting because non-concatenation axis is not aligned. A future version\n",
      "of pandas will change to not sort by default.\n",
      "\n",
      "To accept the future behavior, pass 'sort=False'.\n",
      "\n",
      "To retain the current behavior and silence the warning, pass 'sort=True'.\n",
      "\n"
     ]
    }
   ],
   "source": [
    "ful_df = get_dataframe(\"/mnt/storage_4tb/ymi/spacenet/data/train\")"
   ]
  },
  {
   "cell_type": "code",
   "execution_count": 15,
   "metadata": {},
   "outputs": [
    {
     "data": {
      "text/html": [
       "<div>\n",
       "<style scoped>\n",
       "    .dataframe tbody tr th:only-of-type {\n",
       "        vertical-align: middle;\n",
       "    }\n",
       "\n",
       "    .dataframe tbody tr th {\n",
       "        vertical-align: top;\n",
       "    }\n",
       "\n",
       "    .dataframe thead th {\n",
       "        text-align: right;\n",
       "    }\n",
       "</style>\n",
       "<table border=\"1\" class=\"dataframe\">\n",
       "  <thead>\n",
       "    <tr style=\"text-align: right;\">\n",
       "      <th></th>\n",
       "      <th>catid</th>\n",
       "      <th>folder</th>\n",
       "      <th>manual</th>\n",
       "      <th>nadir</th>\n",
       "      <th>nadir_cat</th>\n",
       "      <th>name</th>\n",
       "      <th>tangent</th>\n",
       "      <th>weight</th>\n",
       "    </tr>\n",
       "  </thead>\n",
       "  <tbody>\n",
       "    <tr>\n",
       "      <th>0</th>\n",
       "      <td>10300100035D1B00</td>\n",
       "      <td>Atlanta_nadir42_catid_10300100035D1B00</td>\n",
       "      <td>1.0</td>\n",
       "      <td>7</td>\n",
       "      <td>unknown</td>\n",
       "      <td>mask_748451_3742689.tif</td>\n",
       "      <td>120</td>\n",
       "      <td>1</td>\n",
       "    </tr>\n",
       "    <tr>\n",
       "      <th>1</th>\n",
       "      <td>10300100035D1B00</td>\n",
       "      <td>Atlanta_nadir42_catid_10300100035D1B00</td>\n",
       "      <td>1.0</td>\n",
       "      <td>7</td>\n",
       "      <td>unknown</td>\n",
       "      <td>mask_737651_3742239.tif</td>\n",
       "      <td>120</td>\n",
       "      <td>1</td>\n",
       "    </tr>\n",
       "    <tr>\n",
       "      <th>2</th>\n",
       "      <td>10300100035D1B00</td>\n",
       "      <td>Atlanta_nadir42_catid_10300100035D1B00</td>\n",
       "      <td>1.0</td>\n",
       "      <td>7</td>\n",
       "      <td>unknown</td>\n",
       "      <td>mask_739001_3721539.tif</td>\n",
       "      <td>120</td>\n",
       "      <td>1</td>\n",
       "    </tr>\n",
       "    <tr>\n",
       "      <th>3</th>\n",
       "      <td>10300100035D1B00</td>\n",
       "      <td>Atlanta_nadir42_catid_10300100035D1B00</td>\n",
       "      <td>1.0</td>\n",
       "      <td>7</td>\n",
       "      <td>unknown</td>\n",
       "      <td>mask_742601_3738639.tif</td>\n",
       "      <td>120</td>\n",
       "      <td>1</td>\n",
       "    </tr>\n",
       "    <tr>\n",
       "      <th>4</th>\n",
       "      <td>10300100035D1B00</td>\n",
       "      <td>Atlanta_nadir42_catid_10300100035D1B00</td>\n",
       "      <td>1.0</td>\n",
       "      <td>7</td>\n",
       "      <td>unknown</td>\n",
       "      <td>mask_732701_3725139.tif</td>\n",
       "      <td>120</td>\n",
       "      <td>1</td>\n",
       "    </tr>\n",
       "  </tbody>\n",
       "</table>\n",
       "</div>"
      ],
      "text/plain": [
       "              catid                                  folder  manual nadir  \\\n",
       "0  10300100035D1B00  Atlanta_nadir42_catid_10300100035D1B00     1.0     7   \n",
       "1  10300100035D1B00  Atlanta_nadir42_catid_10300100035D1B00     1.0     7   \n",
       "2  10300100035D1B00  Atlanta_nadir42_catid_10300100035D1B00     1.0     7   \n",
       "3  10300100035D1B00  Atlanta_nadir42_catid_10300100035D1B00     1.0     7   \n",
       "4  10300100035D1B00  Atlanta_nadir42_catid_10300100035D1B00     1.0     7   \n",
       "\n",
       "  nadir_cat                     name tangent weight  \n",
       "0   unknown  mask_748451_3742689.tif     120      1  \n",
       "1   unknown  mask_737651_3742239.tif     120      1  \n",
       "2   unknown  mask_739001_3721539.tif     120      1  \n",
       "3   unknown  mask_742601_3738639.tif     120      1  \n",
       "4   unknown  mask_732701_3725139.tif     120      1  "
      ]
     },
     "execution_count": 15,
     "metadata": {},
     "output_type": "execute_result"
    }
   ],
   "source": [
    "ful_df.head(5)\n"
   ]
  },
  {
   "cell_type": "code",
   "execution_count": 7,
   "metadata": {},
   "outputs": [
    {
     "name": "stdout",
     "output_type": "stream",
     "text": [
      "Searching jpegs\n",
      "Searching jpegs\n",
      "Searching jpegs\n",
      "Searching jpegs\n",
      "Searching jpegs\n",
      "Searching jpegs\n",
      "Searching jpegs\n",
      "Searching jpegs\n",
      "Searching jpegs\n",
      "Searching jpegs\n",
      "Searching jpegs\n",
      "Searching jpegs\n",
      "Searching jpegs\n",
      "Searching jpegs\n",
      "Searching jpegs\n",
      "Searching jpegs\n",
      "Searching jpegs\n",
      "Searching jpegs\n",
      "Searching jpegs\n",
      "Searching jpegs\n",
      "Searching jpegs\n",
      "Searching jpegs\n",
      "Searching jpegs\n"
     ]
    },
    {
     "name": "stderr",
     "output_type": "stream",
     "text": [
      "/home/user/.virtualenvs/cv34/lib/python3.5/site-packages/ipykernel_launcher.py:34: FutureWarning: Sorting because non-concatenation axis is not aligned. A future version\n",
      "of pandas will change to not sort by default.\n",
      "\n",
      "To accept the future behavior, pass 'sort=False'.\n",
      "\n",
      "To retain the current behavior and silence the warning, pass 'sort=True'.\n",
      "\n"
     ]
    },
    {
     "name": "stdout",
     "output_type": "stream",
     "text": [
      "Searching jpegs\n",
      "Searching jpegs\n",
      "Searching jpegs\n",
      "Searching jpegs\n"
     ]
    }
   ],
   "source": [
    "test_df = get_dataframe(\"/mnt/storage_4tb/ymi/spacenet/data/test/SpaceNet-Off-Nadir_Test_Public\")"
   ]
  },
  {
   "cell_type": "code",
   "execution_count": 12,
   "metadata": {},
   "outputs": [
    {
     "name": "stdout",
     "output_type": "stream",
     "text": [
      "['Atlanta_nadir50_catid_10300100039E6200', 'Atlanta_nadir10_catid_1030010003993E00']\n",
      "Searching jpegs\n",
      "ho\n",
      "Searching jpegs\n",
      "ho\n"
     ]
    },
    {
     "name": "stderr",
     "output_type": "stream",
     "text": [
      "/home/user/.virtualenvs/cv34/lib/python3.5/site-packages/ipykernel_launcher.py:36: FutureWarning: Sorting because non-concatenation axis is not aligned. A future version\n",
      "of pandas will change to not sort by default.\n",
      "\n",
      "To accept the future behavior, pass 'sort=False'.\n",
      "\n",
      "To retain the current behavior and silence the warning, pass 'sort=True'.\n",
      "\n"
     ]
    }
   ],
   "source": [
    "sample_df = get_dataframe(\"/mnt/storage_4tb/ymi/spacenet/data/sample\")"
   ]
  },
  {
   "cell_type": "code",
   "execution_count": 13,
   "metadata": {},
   "outputs": [
    {
     "data": {
      "text/html": [
       "<div>\n",
       "<style scoped>\n",
       "    .dataframe tbody tr th:only-of-type {\n",
       "        vertical-align: middle;\n",
       "    }\n",
       "\n",
       "    .dataframe tbody tr th {\n",
       "        vertical-align: top;\n",
       "    }\n",
       "\n",
       "    .dataframe thead th {\n",
       "        text-align: right;\n",
       "    }\n",
       "</style>\n",
       "<table border=\"1\" class=\"dataframe\">\n",
       "  <thead>\n",
       "    <tr style=\"text-align: right;\">\n",
       "      <th></th>\n",
       "      <th>catid</th>\n",
       "      <th>folder</th>\n",
       "      <th>manual</th>\n",
       "      <th>nadir</th>\n",
       "      <th>nadir_cat</th>\n",
       "      <th>name</th>\n",
       "      <th>tangent</th>\n",
       "      <th>weight</th>\n",
       "    </tr>\n",
       "  </thead>\n",
       "  <tbody>\n",
       "    <tr>\n",
       "      <th>0</th>\n",
       "      <td>10300100039E6200</td>\n",
       "      <td>Atlanta_nadir50_catid_10300100039E6200</td>\n",
       "      <td>1.0</td>\n",
       "      <td>7</td>\n",
       "      <td>unknown</td>\n",
       "      <td>8bit_Atlanta_nadir50_catid_10300100039E6200_74...</td>\n",
       "      <td>120</td>\n",
       "      <td>1</td>\n",
       "    </tr>\n",
       "    <tr>\n",
       "      <th>0</th>\n",
       "      <td>1030010003993E00</td>\n",
       "      <td>Atlanta_nadir10_catid_1030010003993E00</td>\n",
       "      <td>1.0</td>\n",
       "      <td>7</td>\n",
       "      <td>unknown</td>\n",
       "      <td>8bit_Atlanta_nadir10_catid_1030010003993E00_73...</td>\n",
       "      <td>120</td>\n",
       "      <td>1</td>\n",
       "    </tr>\n",
       "  </tbody>\n",
       "</table>\n",
       "</div>"
      ],
      "text/plain": [
       "              catid                                  folder  manual nadir  \\\n",
       "0  10300100039E6200  Atlanta_nadir50_catid_10300100039E6200     1.0     7   \n",
       "0  1030010003993E00  Atlanta_nadir10_catid_1030010003993E00     1.0     7   \n",
       "\n",
       "  nadir_cat                                               name tangent weight  \n",
       "0   unknown  8bit_Atlanta_nadir50_catid_10300100039E6200_74...     120      1  \n",
       "0   unknown  8bit_Atlanta_nadir10_catid_1030010003993E00_73...     120      1  "
      ]
     },
     "execution_count": 13,
     "metadata": {},
     "output_type": "execute_result"
    }
   ],
   "source": [
    "sample_df.head(5)"
   ]
  },
  {
   "cell_type": "code",
   "execution_count": null,
   "metadata": {},
   "outputs": [],
   "source": [
    "len(test_df)"
   ]
  },
  {
   "cell_type": "code",
   "execution_count": null,
   "metadata": {},
   "outputs": [],
   "source": [
    "test_df.head(5)"
   ]
  },
  {
   "cell_type": "code",
   "execution_count": null,
   "metadata": {},
   "outputs": [],
   "source": [
    "len(ful_df)"
   ]
  },
  {
   "cell_type": "code",
   "execution_count": 14,
   "metadata": {},
   "outputs": [],
   "source": [
    "sample_df.to_csv(\"../data/sample.csv\", index=False)"
   ]
  },
  {
   "cell_type": "code",
   "execution_count": null,
   "metadata": {},
   "outputs": [],
   "source": [
    "test_df.to_csv(\"../data/test.csv\", index=False)"
   ]
  },
  {
   "cell_type": "code",
   "execution_count": null,
   "metadata": {},
   "outputs": [],
   "source": [
    "ful_df.to_csv(\"../data/baeline_nadir7.csv\", index=False)"
   ]
  },
  {
   "cell_type": "markdown",
   "metadata": {},
   "source": [
    "1\t1030010003D22F00\t0.48\t7.8\t118.4\tNadir\n",
    "2\t10300100023BC100\t0.49\t8.3\t78.4\tNadir\n",
    "3\t1030010003993\t0.49\t10.5\t148.6\tNadir\n",
    "4\t1030010003CAF100\t0.48\t10.6\t57.6\tNadir\n",
    "5\t1030010002B7D800\t0.49\t13.9\t162\tNadir\n",
    "6\t10300100039AB000\t0.49\t14.8\t43\tNadir\n",
    "7\t1030010002649200\t0.52\t16.9\t168.7\tNadir\n",
    "8\t1030010003C92000\t0.52\t19.3\t35.1\tNadir\n",
    "9\t1030010003127500\t0.54\t21.3\t174.7\tNadir\n",
    "10\t103001000352C200\t0.54\t23.5\t30.7\tNadir\n",
    "11\t103001000307D800\t0.57\t25.4\t178.4\tNadir\n",
    "12\t1030010003472200\t0.58\t27.4\t27.7\tOff-Nadir\n",
    "13\t1030010003315300\t0.61\t29.1\t181\tOff-Nadir\n",
    "14\t10300100036D5200\t0.62\t31\t25.5\tOff-Nadir\n",
    "15\t103001000392F600\t0.65\t32.5\t182.8\tOff-Nadir\n",
    "16\t1030010003697400\t0.68\t34\t23.8\tOff-Nadir\n",
    "17\t1030010003895500\t0.74\t37\t22.6\tOff-Nadir\n",
    "18\t1030010003832800\t0.8\t39.6\t21.5\tOff-Nadir\n",
    "19\t10300100035D1B00\t0.87\t42\t20.7\tVery Off-Nadir\n",
    "20\t1030010003CCD700\t0.95\t44.2\t20\tVery Off-Nadir\n",
    "21\t1030010003713C00\t1.03\t46.1\t19.5\tVery Off-Nadir\n",
    "22\t10300100033C5200\t1.13\t47.8\t19\tVery Off-Nadir\n",
    "23\t1030010003492700\t1.23\t49.3\t18.5\tVery Off-Nadir\n",
    "24\t10300100039E6200\t1.36\t50.9\t18\tVery Off-Nadir\n",
    "25\t1030010003BDDC00\t1.48\t52.2\t17.7\tVery Off-Nadir\n",
    "26\t1030010003CD4300\t1.63\t53.4\t17.4\tVery Off-Nadir\n",
    "27\t1030010003193D00\t1.67\t54\t17.4\tVery Off-Nadir"
   ]
  },
  {
   "cell_type": "code",
   "execution_count": 16,
   "metadata": {},
   "outputs": [
    {
     "name": "stdout",
     "output_type": "stream",
     "text": [
      "27\n"
     ]
    }
   ],
   "source": [
    "nadirs_cat = [\"Nadir\", \"Nadir\", \"Nadir\", \"Nadir\", \"Nadir\", \"Nadir\", \"Nadir\", \"Nadir\", \"Nadir\", \"Nadir\", \"Nadir\", \n",
    "              \"Off-Nadir\", \"Off-Nadir\", \"Off-Nadir\", \"Off-Nadir\", \"Off-Nadir\", \"Off-Nadir\", \"Off-Nadir\", \n",
    "              \"Very Off-Nadir\", \"Very Off-Nadir\", \"Very Off-Nadir\", \"Very Off-Nadir\", \"Very Off-Nadir\", \"Very Off-Nadir\", \n",
    "              \"Very Off-Nadir\", \"Very Off-Nadir\", \"Very Off-Nadir\"]\n",
    "print(len(nadirs_cat))"
   ]
  },
  {
   "cell_type": "code",
   "execution_count": 17,
   "metadata": {},
   "outputs": [
    {
     "name": "stdout",
     "output_type": "stream",
     "text": [
      "27\n"
     ]
    }
   ],
   "source": [
    "tangents = [118.4, 78.4, 148.6, 57.6, 162, 43, 168.7, 35.1, 174.7, 30.7, 178.4, 27.7, 181, 25.5, 182.8, 23.8,\n",
    "            22.6, 21.5, 20.7, 20, 19.5, 19, 18.5, 18, 17.7, 17.4, 17.4]\n",
    "print(len(tangents))"
   ]
  },
  {
   "cell_type": "code",
   "execution_count": 18,
   "metadata": {},
   "outputs": [
    {
     "name": "stdout",
     "output_type": "stream",
     "text": [
      "27\n"
     ]
    }
   ],
   "source": [
    "nadirs = [7.8, 8.3, 10.5, 10.6, 13.9, 14.8, 16.9, 19.3, 21.3, 23.5, 25.4, 27.4, 29.1, 31, 32.5, 34, 37, 39.6, 42, 44.2, 46.1, 47.8, 49.3, 50.9, 52.2, 53.4, 54]\n",
    "print(len(nadirs))"
   ]
  },
  {
   "cell_type": "code",
   "execution_count": 19,
   "metadata": {},
   "outputs": [
    {
     "name": "stdout",
     "output_type": "stream",
     "text": [
      "27\n"
     ]
    }
   ],
   "source": [
    "catid = [\"1030010003D22F00\", \"10300100023BC100\", \"1030010003993E00\", \"1030010003CAF100\", \"1030010002B7D800\",\n",
    "         \"10300100039AB000\", \"1030010002649200\", \"1030010003C92000\", \"1030010003127500\", \"103001000352C200\",\n",
    "         \"103001000307D800\", \"1030010003472200\", \"1030010003315300\", \"10300100036D5200\", \"103001000392F600\",\n",
    "         \"1030010003697400\", \"1030010003895500\", \"1030010003832800\", \"10300100035D1B00\", \"1030010003CCD700\",\n",
    "         \"1030010003713C00\", \"10300100033C5200\", \"1030010003492700\", \"10300100039E6200\", \"1030010003BDDC00\",\n",
    "         \"1030010003CD4300\", \"1030010003193D00\"]\n",
    "print(len(catid))"
   ]
  },
  {
   "cell_type": "code",
   "execution_count": null,
   "metadata": {},
   "outputs": [],
   "source": [
    "len(np.unique(catid))"
   ]
  },
  {
   "cell_type": "code",
   "execution_count": 20,
   "metadata": {},
   "outputs": [],
   "source": [
    "for cat, nadir, tangent, nadir_cat in zip(catid, nadirs, tangents, nadirs_cat):\n",
    "    ful_df.loc[ful_df['catid'] == cat, 'nadir'] = nadir \n",
    "    ful_df.loc[ful_df['catid'] == cat, 'tangent'] = tangent \n",
    "    ful_df.loc[ful_df['catid'] == cat, 'nadir_cat'] = nadir_cat \n",
    "#     ful_df.loc[ful_df['catid'] == cat, 'nadir'] = nadir \n",
    "#     ful_df.loc[ful_df['catid'] == cat, 'nadir'] = nadir "
   ]
  },
  {
   "cell_type": "code",
   "execution_count": 25,
   "metadata": {},
   "outputs": [],
   "source": [
    "train, val = train_test_split(ful_df, test_size=0.1, random_state=0, stratify=ful_df[['nadir']])"
   ]
  },
  {
   "cell_type": "code",
   "execution_count": 26,
   "metadata": {},
   "outputs": [],
   "source": [
    "train.to_csv(\"../data/train/baseline_train_nadir_5.csv\", index=False)\n",
    "val.to_csv(\"../data/train/baseline_val_nadir_5.csv\", index=False)"
   ]
  },
  {
   "cell_type": "code",
   "execution_count": null,
   "metadata": {},
   "outputs": [],
   "source": [
    "from sklearn.preprocessing import LabelEncoder\n",
    "\n",
    "encoder = LabelEncoder()\n",
    "encoder.fit(nadirs_cat)"
   ]
  },
  {
   "cell_type": "code",
   "execution_count": null,
   "metadata": {},
   "outputs": [],
   "source": [
    "from keras.utils import np_utils\n",
    "from sklearn.preprocessing import LabelEncoder\n",
    "\n",
    "\n",
    "# encode class values as integers\n",
    "encoder = LabelEncoder()\n",
    "encoder.fit(ful_df['nadir_cat'])\n",
    "encoded_Y = encoder.transform(ful_df['nadir_cat'])\n",
    "# convert integers to dummy variables (i.e. one hot encoded)\n",
    "dummy_y = np_utils.to_categorical(encoded_Y)"
   ]
  },
  {
   "cell_type": "code",
   "execution_count": null,
   "metadata": {},
   "outputs": [],
   "source": [
    "ful_df['nadir_cat_label'] = encoded_Y"
   ]
  },
  {
   "cell_type": "code",
   "execution_count": 21,
   "metadata": {},
   "outputs": [],
   "source": [
    "ful_df['tangent_label'] = pd.cut(ful_df['tangent'], 3, labels=[0, 1, 2])\n",
    "ful_df['nadir_cat_label'] = pd.cut(ful_df['nadir'], 5, labels=[0, 1, 2, 3, 4])"
   ]
  },
  {
   "cell_type": "code",
   "execution_count": 24,
   "metadata": {},
   "outputs": [
    {
     "data": {
      "text/plain": [
       "4    7448\n",
       "0    7448\n",
       "2    5320\n",
       "3    4256\n",
       "1    4256\n",
       "Name: nadir_cat_label, dtype: int64"
      ]
     },
     "execution_count": 24,
     "metadata": {},
     "output_type": "execute_result"
    }
   ],
   "source": [
    "ful_df['nadir_cat_label'].value_counts()"
   ]
  },
  {
   "cell_type": "code",
   "execution_count": 23,
   "metadata": {},
   "outputs": [
    {
     "data": {
      "text/html": [
       "<div>\n",
       "<style scoped>\n",
       "    .dataframe tbody tr th:only-of-type {\n",
       "        vertical-align: middle;\n",
       "    }\n",
       "\n",
       "    .dataframe tbody tr th {\n",
       "        vertical-align: top;\n",
       "    }\n",
       "\n",
       "    .dataframe thead th {\n",
       "        text-align: right;\n",
       "    }\n",
       "</style>\n",
       "<table border=\"1\" class=\"dataframe\">\n",
       "  <thead>\n",
       "    <tr style=\"text-align: right;\">\n",
       "      <th></th>\n",
       "      <th>catid</th>\n",
       "      <th>folder</th>\n",
       "      <th>manual</th>\n",
       "      <th>nadir</th>\n",
       "      <th>nadir_cat</th>\n",
       "      <th>name</th>\n",
       "      <th>tangent</th>\n",
       "      <th>weight</th>\n",
       "      <th>tangent_label</th>\n",
       "      <th>nadir_cat_label</th>\n",
       "    </tr>\n",
       "  </thead>\n",
       "  <tbody>\n",
       "    <tr>\n",
       "      <th>0</th>\n",
       "      <td>10300100035D1B00</td>\n",
       "      <td>Atlanta_nadir42_catid_10300100035D1B00</td>\n",
       "      <td>1.0</td>\n",
       "      <td>42</td>\n",
       "      <td>Very Off-Nadir</td>\n",
       "      <td>mask_748451_3742689.tif</td>\n",
       "      <td>20.7</td>\n",
       "      <td>1</td>\n",
       "      <td>0</td>\n",
       "      <td>3</td>\n",
       "    </tr>\n",
       "    <tr>\n",
       "      <th>1</th>\n",
       "      <td>10300100035D1B00</td>\n",
       "      <td>Atlanta_nadir42_catid_10300100035D1B00</td>\n",
       "      <td>1.0</td>\n",
       "      <td>42</td>\n",
       "      <td>Very Off-Nadir</td>\n",
       "      <td>mask_737651_3742239.tif</td>\n",
       "      <td>20.7</td>\n",
       "      <td>1</td>\n",
       "      <td>0</td>\n",
       "      <td>3</td>\n",
       "    </tr>\n",
       "    <tr>\n",
       "      <th>2</th>\n",
       "      <td>10300100035D1B00</td>\n",
       "      <td>Atlanta_nadir42_catid_10300100035D1B00</td>\n",
       "      <td>1.0</td>\n",
       "      <td>42</td>\n",
       "      <td>Very Off-Nadir</td>\n",
       "      <td>mask_739001_3721539.tif</td>\n",
       "      <td>20.7</td>\n",
       "      <td>1</td>\n",
       "      <td>0</td>\n",
       "      <td>3</td>\n",
       "    </tr>\n",
       "    <tr>\n",
       "      <th>3</th>\n",
       "      <td>10300100035D1B00</td>\n",
       "      <td>Atlanta_nadir42_catid_10300100035D1B00</td>\n",
       "      <td>1.0</td>\n",
       "      <td>42</td>\n",
       "      <td>Very Off-Nadir</td>\n",
       "      <td>mask_742601_3738639.tif</td>\n",
       "      <td>20.7</td>\n",
       "      <td>1</td>\n",
       "      <td>0</td>\n",
       "      <td>3</td>\n",
       "    </tr>\n",
       "    <tr>\n",
       "      <th>4</th>\n",
       "      <td>10300100035D1B00</td>\n",
       "      <td>Atlanta_nadir42_catid_10300100035D1B00</td>\n",
       "      <td>1.0</td>\n",
       "      <td>42</td>\n",
       "      <td>Very Off-Nadir</td>\n",
       "      <td>mask_732701_3725139.tif</td>\n",
       "      <td>20.7</td>\n",
       "      <td>1</td>\n",
       "      <td>0</td>\n",
       "      <td>3</td>\n",
       "    </tr>\n",
       "  </tbody>\n",
       "</table>\n",
       "</div>"
      ],
      "text/plain": [
       "              catid                                  folder  manual nadir  \\\n",
       "0  10300100035D1B00  Atlanta_nadir42_catid_10300100035D1B00     1.0    42   \n",
       "1  10300100035D1B00  Atlanta_nadir42_catid_10300100035D1B00     1.0    42   \n",
       "2  10300100035D1B00  Atlanta_nadir42_catid_10300100035D1B00     1.0    42   \n",
       "3  10300100035D1B00  Atlanta_nadir42_catid_10300100035D1B00     1.0    42   \n",
       "4  10300100035D1B00  Atlanta_nadir42_catid_10300100035D1B00     1.0    42   \n",
       "\n",
       "        nadir_cat                     name tangent weight tangent_label  \\\n",
       "0  Very Off-Nadir  mask_748451_3742689.tif    20.7      1             0   \n",
       "1  Very Off-Nadir  mask_737651_3742239.tif    20.7      1             0   \n",
       "2  Very Off-Nadir  mask_739001_3721539.tif    20.7      1             0   \n",
       "3  Very Off-Nadir  mask_742601_3738639.tif    20.7      1             0   \n",
       "4  Very Off-Nadir  mask_732701_3725139.tif    20.7      1             0   \n",
       "\n",
       "  nadir_cat_label  \n",
       "0               3  \n",
       "1               3  \n",
       "2               3  \n",
       "3               3  \n",
       "4               3  "
      ]
     },
     "execution_count": 23,
     "metadata": {},
     "output_type": "execute_result"
    }
   ],
   "source": [
    "ful_df.head(5)"
   ]
  },
  {
   "cell_type": "code",
   "execution_count": null,
   "metadata": {},
   "outputs": [],
   "source": [
    "plt.hist(pd.cut(ful_df['nadir'], 3, labels=range(3)))"
   ]
  },
  {
   "cell_type": "code",
   "execution_count": null,
   "metadata": {},
   "outputs": [],
   "source": [
    "x, y, z = plt.hist(ful_df['nadir'].values, bins=5)"
   ]
  },
  {
   "cell_type": "code",
   "execution_count": null,
   "metadata": {},
   "outputs": [],
   "source": [
    "ful_df['nadir'].value_counts()"
   ]
  },
  {
   "cell_type": "code",
   "execution_count": null,
   "metadata": {},
   "outputs": [],
   "source": [
    "plt.hist(ful_df['nadir'], bins=7)"
   ]
  },
  {
   "cell_type": "code",
   "execution_count": null,
   "metadata": {},
   "outputs": [],
   "source": [
    "dummy_y"
   ]
  },
  {
   "cell_type": "code",
   "execution_count": null,
   "metadata": {},
   "outputs": [],
   "source": [
    "ful_df.head(5)"
   ]
  },
  {
   "cell_type": "code",
   "execution_count": null,
   "metadata": {},
   "outputs": [],
   "source": [
    "ful_df['nadir_cat'].value_counts()"
   ]
  },
  {
   "cell_type": "code",
   "execution_count": null,
   "metadata": {},
   "outputs": [],
   "source": [
    "ful_df['nadir'].value_counts()"
   ]
  },
  {
   "cell_type": "code",
   "execution_count": null,
   "metadata": {},
   "outputs": [],
   "source": [
    "ful_df['tangent'].value_counts()"
   ]
  },
  {
   "cell_type": "code",
   "execution_count": null,
   "metadata": {},
   "outputs": [],
   "source": [
    "ful_df['tangent'].hist()"
   ]
  },
  {
   "cell_type": "code",
   "execution_count": null,
   "metadata": {},
   "outputs": [],
   "source": [
    "train_only_man.to_csv('/media/user/5674E720138ECEDF/geo_data/train_only_man_boosted.df', index=False)\n",
    "val_only_man.to_csv('/media/user/5674E720138ECEDF/geo_data/val_only_man_boosted.df', index=False)\n",
    "test.to_csv('/media/user/5674E720138ECEDF/geo_data/test_boosted.df', index=False)"
   ]
  },
  {
   "cell_type": "code",
   "execution_count": 32,
   "metadata": {},
   "outputs": [
    {
     "data": {
      "text/plain": [
       "4    7448\n",
       "0    7448\n",
       "2    5320\n",
       "3    4256\n",
       "1    4256\n",
       "Name: nadir_cat_label, dtype: int64"
      ]
     },
     "execution_count": 32,
     "metadata": {},
     "output_type": "execute_result"
    }
   ],
   "source": [
    "ful_df['nadir_cat_label'].value_counts()"
   ]
  }
 ],
 "metadata": {
  "kernelspec": {
   "display_name": "Python 3",
   "language": "python",
   "name": "python3"
  },
  "language_info": {
   "codemirror_mode": {
    "name": "ipython",
    "version": 3
   },
   "file_extension": ".py",
   "mimetype": "text/x-python",
   "name": "python",
   "nbconvert_exporter": "python",
   "pygments_lexer": "ipython3",
   "version": "3.5.2"
  }
 },
 "nbformat": 4,
 "nbformat_minor": 2
}
