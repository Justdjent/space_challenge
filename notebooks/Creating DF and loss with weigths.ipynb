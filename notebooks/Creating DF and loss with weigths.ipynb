{
 "cells": [
  {
   "cell_type": "code",
   "execution_count": 1,
   "metadata": {},
   "outputs": [],
   "source": [
    "import pandas as pd\n",
    "import numpy as np\n",
    "import matplotlib.pyplot as plt\n",
    "from shutil import copyfile\n",
    "from PIL import Image\n",
    "%matplotlib inline\n",
    "import matplotlib.pyplot as plt\n",
    "import os\n",
    "import skimage.io as io\n",
    "from sklearn.model_selection import train_test_split"
   ]
  },
  {
   "cell_type": "code",
   "execution_count": 18,
   "metadata": {},
   "outputs": [],
   "source": [
    "def get_dataframe(root_fldr, weight=1, manual=1):\n",
    "#     root_folder = \"../data\"\n",
    "    fldrs = []\n",
    "    for i in os.listdir(root_fldr):\n",
    "        if i.startswith('Atlanta') and os.path.isdir(os.path.join(root_fldr, i)):\n",
    "            fldrs.append(i)\n",
    "    full_df = pd.DataFrame(columns=['name', 'weight', 'catid', 'nadir', 'tangent', 'folder'])\n",
    "    for folder in fldrs:\n",
    "        fldr_path = os.path.join(root_fldr, folder)\n",
    "        inside = os.listdir(fldr_path)\n",
    "        if len(inside) > 2:\n",
    "            if manual == 0:\n",
    "                msk_dir = 'masks'\n",
    "            else:\n",
    "                msk_dir = 'masks'\n",
    "            path_msk = os.path.join(fldr_path, msk_dir)\n",
    "            filenames = os.listdir(path_msk)\n",
    "            weights = np.full((len(filenames)), weight)\n",
    "            df = pd.DataFrame(columns=['name', 'weight', 'catid', 'nadir', 'tangent', 'folder'])\n",
    "            # df['name'] = [os.path.join(path_msk, n) for n in filenames]\n",
    "            df['name'] = filenames\n",
    "            df['weight'] = weights\n",
    "            df['manual'] = manual\n",
    "            df['folder'] = folder\n",
    "            df['catid'] = folder.split(\"_\")[-1]\n",
    "            df['nadir'] = 7\n",
    "            df['tangent'] = 120\n",
    "            full_df = pd.concat([full_df, df])\n",
    "    #full_df['grove'] = [i.split('/')[-1].split('_')[0] if i.split('/')[-1].split('_')[1] == 'nrg' else i.split('/')[-1].split('_')[0] + '_' + i.split('/')[-1].split('_')[1] for i in full_df['name']]\n",
    "    return full_df"
   ]
  },
  {
   "cell_type": "code",
   "execution_count": 9,
   "metadata": {},
   "outputs": [
    {
     "name": "stdout",
     "output_type": "stream",
     "text": [
      "['Atlanta_nadir7_catid_1030010003D22F00']\n"
     ]
    }
   ],
   "source": [
    "root_folder = \"../data\"\n",
    "train_folders = []\n",
    "for i in train_fodlers:\n",
    "    if i.startswith('Atlanta') and os.path.isdir(os.path.join(root_folder, i)):\n",
    "        train_folders.append(i)\n",
    "print(train_folders)"
   ]
  },
  {
   "cell_type": "code",
   "execution_count": 19,
   "metadata": {},
   "outputs": [
    {
     "name": "stderr",
     "output_type": "stream",
     "text": [
      "/home/user/.virtualenvs/cv34/lib/python3.5/site-packages/ipykernel_launcher.py:28: FutureWarning: Sorting because non-concatenation axis is not aligned. A future version\n",
      "of pandas will change to not sort by default.\n",
      "\n",
      "To accept the future behavior, pass 'sort=True'.\n",
      "\n",
      "To retain the current behavior and silence the warning, pass sort=False\n",
      "\n"
     ]
    }
   ],
   "source": [
    "ful_df = get_dataframe(\"/home/user/projects/spacenet/data/\")"
   ]
  },
  {
   "cell_type": "code",
   "execution_count": 20,
   "metadata": {},
   "outputs": [
    {
     "data": {
      "text/html": [
       "<div>\n",
       "<style scoped>\n",
       "    .dataframe tbody tr th:only-of-type {\n",
       "        vertical-align: middle;\n",
       "    }\n",
       "\n",
       "    .dataframe tbody tr th {\n",
       "        vertical-align: top;\n",
       "    }\n",
       "\n",
       "    .dataframe thead th {\n",
       "        text-align: right;\n",
       "    }\n",
       "</style>\n",
       "<table border=\"1\" class=\"dataframe\">\n",
       "  <thead>\n",
       "    <tr style=\"text-align: right;\">\n",
       "      <th></th>\n",
       "      <th>catid</th>\n",
       "      <th>folder</th>\n",
       "      <th>manual</th>\n",
       "      <th>nadir</th>\n",
       "      <th>name</th>\n",
       "      <th>tangent</th>\n",
       "      <th>weight</th>\n",
       "    </tr>\n",
       "  </thead>\n",
       "  <tbody>\n",
       "    <tr>\n",
       "      <th>0</th>\n",
       "      <td>1030010003D22F00</td>\n",
       "      <td>Atlanta_nadir7_catid_1030010003D22F00</td>\n",
       "      <td>1.0</td>\n",
       "      <td>7</td>\n",
       "      <td>mask_736301_3726489.tif</td>\n",
       "      <td>120</td>\n",
       "      <td>1</td>\n",
       "    </tr>\n",
       "    <tr>\n",
       "      <th>1</th>\n",
       "      <td>1030010003D22F00</td>\n",
       "      <td>Atlanta_nadir7_catid_1030010003D22F00</td>\n",
       "      <td>1.0</td>\n",
       "      <td>7</td>\n",
       "      <td>mask_734951_3726039.tif</td>\n",
       "      <td>120</td>\n",
       "      <td>1</td>\n",
       "    </tr>\n",
       "    <tr>\n",
       "      <th>2</th>\n",
       "      <td>1030010003D22F00</td>\n",
       "      <td>Atlanta_nadir7_catid_1030010003D22F00</td>\n",
       "      <td>1.0</td>\n",
       "      <td>7</td>\n",
       "      <td>mask_739901_3736839.tif</td>\n",
       "      <td>120</td>\n",
       "      <td>1</td>\n",
       "    </tr>\n",
       "    <tr>\n",
       "      <th>3</th>\n",
       "      <td>1030010003D22F00</td>\n",
       "      <td>Atlanta_nadir7_catid_1030010003D22F00</td>\n",
       "      <td>1.0</td>\n",
       "      <td>7</td>\n",
       "      <td>mask_743501_3723789.tif</td>\n",
       "      <td>120</td>\n",
       "      <td>1</td>\n",
       "    </tr>\n",
       "    <tr>\n",
       "      <th>4</th>\n",
       "      <td>1030010003D22F00</td>\n",
       "      <td>Atlanta_nadir7_catid_1030010003D22F00</td>\n",
       "      <td>1.0</td>\n",
       "      <td>7</td>\n",
       "      <td>mask_735851_3720639.tif</td>\n",
       "      <td>120</td>\n",
       "      <td>1</td>\n",
       "    </tr>\n",
       "  </tbody>\n",
       "</table>\n",
       "</div>"
      ],
      "text/plain": [
       "              catid                                 folder  manual nadir  \\\n",
       "0  1030010003D22F00  Atlanta_nadir7_catid_1030010003D22F00     1.0     7   \n",
       "1  1030010003D22F00  Atlanta_nadir7_catid_1030010003D22F00     1.0     7   \n",
       "2  1030010003D22F00  Atlanta_nadir7_catid_1030010003D22F00     1.0     7   \n",
       "3  1030010003D22F00  Atlanta_nadir7_catid_1030010003D22F00     1.0     7   \n",
       "4  1030010003D22F00  Atlanta_nadir7_catid_1030010003D22F00     1.0     7   \n",
       "\n",
       "                      name tangent weight  \n",
       "0  mask_736301_3726489.tif     120      1  \n",
       "1  mask_734951_3726039.tif     120      1  \n",
       "2  mask_739901_3736839.tif     120      1  \n",
       "3  mask_743501_3723789.tif     120      1  \n",
       "4  mask_735851_3720639.tif     120      1  "
      ]
     },
     "execution_count": 20,
     "metadata": {},
     "output_type": "execute_result"
    }
   ],
   "source": [
    "ful_df.head(5)"
   ]
  },
  {
   "cell_type": "code",
   "execution_count": 22,
   "metadata": {},
   "outputs": [],
   "source": [
    "ful_df.to_csv(\"../data/baeline_nadir7.csv\", index=False)"
   ]
  },
  {
   "cell_type": "code",
   "execution_count": 24,
   "metadata": {},
   "outputs": [],
   "source": [
    "m10_ = pd.read_csv(\"../data/summaryData/Atlanta_nadir10_catid_1030010003993E00_Train.csv\")"
   ]
  },
  {
   "cell_type": "code",
   "execution_count": 25,
   "metadata": {},
   "outputs": [
    {
     "data": {
      "text/html": [
       "<div>\n",
       "<style scoped>\n",
       "    .dataframe tbody tr th:only-of-type {\n",
       "        vertical-align: middle;\n",
       "    }\n",
       "\n",
       "    .dataframe tbody tr th {\n",
       "        vertical-align: top;\n",
       "    }\n",
       "\n",
       "    .dataframe thead th {\n",
       "        text-align: right;\n",
       "    }\n",
       "</style>\n",
       "<table border=\"1\" class=\"dataframe\">\n",
       "  <thead>\n",
       "    <tr style=\"text-align: right;\">\n",
       "      <th></th>\n",
       "      <th>Unnamed: 0</th>\n",
       "      <th>ImageId</th>\n",
       "      <th>BuildingId</th>\n",
       "      <th>PolygonWKT_Pix</th>\n",
       "      <th>PolygonWKT_Geo</th>\n",
       "    </tr>\n",
       "  </thead>\n",
       "  <tbody>\n",
       "    <tr>\n",
       "      <th>0</th>\n",
       "      <td>0</td>\n",
       "      <td>Atlanta_nadir10_catid_1030010003993E00_743051_...</td>\n",
       "      <td>0</td>\n",
       "      <td>POLYGON ((484.768 900.000, 485.379 898.427, 49...</td>\n",
       "      <td>1</td>\n",
       "    </tr>\n",
       "    <tr>\n",
       "      <th>1</th>\n",
       "      <td>1</td>\n",
       "      <td>Atlanta_nadir10_catid_1030010003993E00_743051_...</td>\n",
       "      <td>1</td>\n",
       "      <td>POLYGON ((58.747 900.000, 58.988 869.371, 53.6...</td>\n",
       "      <td>1</td>\n",
       "    </tr>\n",
       "    <tr>\n",
       "      <th>2</th>\n",
       "      <td>2</td>\n",
       "      <td>Atlanta_nadir10_catid_1030010003993E00_743051_...</td>\n",
       "      <td>2</td>\n",
       "      <td>POLYGON ((287.643 900.000, 287.448 890.881, 29...</td>\n",
       "      <td>1</td>\n",
       "    </tr>\n",
       "    <tr>\n",
       "      <th>3</th>\n",
       "      <td>3</td>\n",
       "      <td>Atlanta_nadir10_catid_1030010003993E00_743051_...</td>\n",
       "      <td>3</td>\n",
       "      <td>POLYGON ((491.034 866.340, 502.470 866.049, 50...</td>\n",
       "      <td>1</td>\n",
       "    </tr>\n",
       "    <tr>\n",
       "      <th>4</th>\n",
       "      <td>4</td>\n",
       "      <td>Atlanta_nadir10_catid_1030010003993E00_743051_...</td>\n",
       "      <td>4</td>\n",
       "      <td>POLYGON ((352.053 868.636, 352.786 838.429, 37...</td>\n",
       "      <td>1</td>\n",
       "    </tr>\n",
       "  </tbody>\n",
       "</table>\n",
       "</div>"
      ],
      "text/plain": [
       "   Unnamed: 0                                            ImageId  BuildingId  \\\n",
       "0           0  Atlanta_nadir10_catid_1030010003993E00_743051_...           0   \n",
       "1           1  Atlanta_nadir10_catid_1030010003993E00_743051_...           1   \n",
       "2           2  Atlanta_nadir10_catid_1030010003993E00_743051_...           2   \n",
       "3           3  Atlanta_nadir10_catid_1030010003993E00_743051_...           3   \n",
       "4           4  Atlanta_nadir10_catid_1030010003993E00_743051_...           4   \n",
       "\n",
       "                                      PolygonWKT_Pix PolygonWKT_Geo  \n",
       "0  POLYGON ((484.768 900.000, 485.379 898.427, 49...              1  \n",
       "1  POLYGON ((58.747 900.000, 58.988 869.371, 53.6...              1  \n",
       "2  POLYGON ((287.643 900.000, 287.448 890.881, 29...              1  \n",
       "3  POLYGON ((491.034 866.340, 502.470 866.049, 50...              1  \n",
       "4  POLYGON ((352.053 868.636, 352.786 838.429, 37...              1  "
      ]
     },
     "execution_count": 25,
     "metadata": {},
     "output_type": "execute_result"
    }
   ],
   "source": [
    "m10_.head(5)"
   ]
  },
  {
   "cell_type": "code",
   "execution_count": 28,
   "metadata": {},
   "outputs": [
    {
     "ename": "SyntaxError",
     "evalue": "EOL while scanning string literal (<ipython-input-28-90c1004c22f3>, line 1)",
     "output_type": "error",
     "traceback": [
      "\u001b[0;36m  File \u001b[0;32m\"<ipython-input-28-90c1004c22f3>\"\u001b[0;36m, line \u001b[0;32m1\u001b[0m\n\u001b[0;31m    nadir_cat = pd.dataframe(\"1\t1030010003D22F00\t0.48\t7.8\t118.4\tNadir\u001b[0m\n\u001b[0m                               \t                \t    \t   \t     \t     ^\u001b[0m\n\u001b[0;31mSyntaxError\u001b[0m\u001b[0;31m:\u001b[0m EOL while scanning string literal\n"
     ]
    }
   ],
   "source": [
    "nadir_cat = pd.dataframe(\"1\t1030010003D22F00\t0.48\t7.8\t118.4\tNadir\n",
    "2\t10300100023BC100\t0.49\t8.3\t78.4\tNadir\n",
    "3\t1030010003993\t0.49\t10.5\t148.6\tNadir\n",
    "4\t1030010003CAF100\t0.48\t10.6\t57.6\tNadir\n",
    "5\t1030010002B7D800\t0.49\t13.9\t162\tNadir\n",
    "6\t10300100039AB000\t0.49\t14.8\t43\tNadir\n",
    "7\t1030010002649200\t0.52\t16.9\t168.7\tNadir\n",
    "8\t1030010003C92000\t0.52\t19.3\t35.1\tNadir\n",
    "9\t1030010003127500\t0.54\t21.3\t174.7\tNadir\n",
    "10\t103001000352C200\t0.54\t23.5\t30.7\tNadir\n",
    "11\t103001000307D800\t0.57\t25.4\t178.4\tNadir\n",
    "12\t1030010003472200\t0.58\t27.4\t27.7\tOff-Nadir\n",
    "13\t1030010003315300\t0.61\t29.1\t181\tOff-Nadir\n",
    "14\t10300100036D5200\t0.62\t31\t25.5\tOff-Nadir\n",
    "15\t103001000392F600\t0.65\t32.5\t182.8\tOff-Nadir\n",
    "16\t1030010003697400\t0.68\t34\t23.8\tOff-Nadir\n",
    "17\t1030010003895500\t0.74\t37\t22.6\tOff-Nadir\n",
    "18\t1030010003832800\t0.8\t39.6\t21.5\tOff-Nadir\n",
    "19\t10300100035D1B00\t0.87\t42\t20.7\tVery Off-Nadir\n",
    "20\t1030010003CCD700\t0.95\t44.2\t20\tVery Off-Nadir\n",
    "21\t1030010003713C00\t1.03\t46.1\t19.5\tVery Off-Nadir\n",
    "22\t10300100033C5200\t1.13\t47.8\t19\tVery Off-Nadir\n",
    "23\t1030010003492700\t1.23\t49.3\t18.5\tVery Off-Nadir\n",
    "24\t10300100039E6200\t1.36\t50.9\t18\tVery Off-Nadir\n",
    "25\t1030010003BDDC00\t1.48\t52.2\t17.7\tVery Off-Nadir\n",
    "26\t1030010003CD4300\t1.63\t53.4\t17.4\tVery Off-Nadir\n",
    "27\t1030010003193D00\t1.67\t54\t17.4\tVery Off-Nadir\", delimiter(\"\t\"))"
   ]
  },
  {
   "cell_type": "code",
   "execution_count": 33,
   "metadata": {},
   "outputs": [
    {
     "name": "stdout",
     "output_type": "stream",
     "text": [
      "27\n"
     ]
    }
   ],
   "source": [
    "nadirs_cat = [\"Nadir\", \"Nadir\", \"Nadir\", \"Nadir\", \"Nadir\", \"Nadir\", \"Nadir\", \"Nadir\", \"Nadir\", \"Nadir\", \"Nadir\", \n",
    "              \"Off-Nadir\", \"Off-Nadir\", \"Off-Nadir\", \"Off-Nadir\", \"Off-Nadir\", \"Off-Nadir\", \"Off-Nadir\", \n",
    "              \"Very Off-Nadir\", \"Very Off-Nadir\", \"Very Off-Nadir\", \"Very Off-Nadir\", \"Very Off-Nadir\", \"Very Off-Nadir\", \n",
    "              \"Very Off-Nadir\", \"Very Off-Nadir\", \"Very Off-Nadir\"]\n",
    "print(len(nadirs_cat))"
   ]
  },
  {
   "cell_type": "code",
   "execution_count": 32,
   "metadata": {},
   "outputs": [
    {
     "name": "stdout",
     "output_type": "stream",
     "text": [
      "27\n"
     ]
    }
   ],
   "source": [
    "tangents = [118.4, 78.4, 148.6, 57.6, 162, 43, 168.7, 35.1, 174.7, 30.7, 178.4, 27.7, 181, 25.5, 182.8, 23.8,\n",
    "            22.6, 21.5, 20.7, 20, 19.5, 19, 18.5, 18, 17.7, 17.4, 17.4]\n",
    "print(len(tangents))"
   ]
  },
  {
   "cell_type": "code",
   "execution_count": 31,
   "metadata": {},
   "outputs": [
    {
     "name": "stdout",
     "output_type": "stream",
     "text": [
      "27\n"
     ]
    }
   ],
   "source": [
    "nadirs = [7.8, 8.3, 10.5, 10.6, 13.9, 14.8, 16.9, 19.3, 21.3, 23.5, 25.4, 27.4, 29.1, 31, 32.5, 34, 37, 39.6, 42, 44.2, 46.1, 47.8, 49.3, 50.9, 52.2, 53.4, 54]\n",
    "print(len(nadirs))"
   ]
  },
  {
   "cell_type": "code",
   "execution_count": 30,
   "metadata": {},
   "outputs": [
    {
     "name": "stdout",
     "output_type": "stream",
     "text": [
      "27\n"
     ]
    }
   ],
   "source": [
    "catid = [\"1030010003D22F00\", \"10300100023BC100\", \"1030010003993\", \"1030010003CAF100\", \"1030010002B7D800\",\n",
    "         \"10300100039AB000\", \"1030010002649200\", \"1030010003C92000\", \"1030010003127500\", \"103001000352C200\",\n",
    "         \"103001000307D800\", \"1030010003472200\", \"1030010003315300\", \"10300100036D5200\", \"103001000392F600\",\n",
    "         \"1030010003697400\", \"1030010003895500\", \"1030010003832800\", \"10300100035D1B00\", \"1030010003CCD700\",\n",
    "         \"1030010003713C00\", \"10300100033C5200\", \"1030010003492700\", \"10300100039E6200\", \"1030010003BDDC00\",\n",
    "         \"1030010003CD4300\", \"1030010003193D00\"]\n",
    "print(len(catid))"
   ]
  },
  {
   "cell_type": "code",
   "execution_count": 34,
   "metadata": {},
   "outputs": [],
   "source": [
    "for cat, nadir, tangent, nadir_cat in zip(catid, nadirs, tangents, nadirs_cat):\n",
    "    ful_df.loc[ful_df['catid'] == cat, 'nadir'] = nadir \n",
    "    ful_df.loc[ful_df['catid'] == cat, 'tangent'] = tangent \n",
    "    ful_df.loc[ful_df['catid'] == cat, 'nadir_cat'] = nadir_cat \n",
    "#     ful_df.loc[ful_df['catid'] == cat, 'nadir'] = nadir \n",
    "#     ful_df.loc[ful_df['catid'] == cat, 'nadir'] = nadir "
   ]
  },
  {
   "cell_type": "code",
   "execution_count": 35,
   "metadata": {},
   "outputs": [
    {
     "data": {
      "text/html": [
       "<div>\n",
       "<style scoped>\n",
       "    .dataframe tbody tr th:only-of-type {\n",
       "        vertical-align: middle;\n",
       "    }\n",
       "\n",
       "    .dataframe tbody tr th {\n",
       "        vertical-align: top;\n",
       "    }\n",
       "\n",
       "    .dataframe thead th {\n",
       "        text-align: right;\n",
       "    }\n",
       "</style>\n",
       "<table border=\"1\" class=\"dataframe\">\n",
       "  <thead>\n",
       "    <tr style=\"text-align: right;\">\n",
       "      <th></th>\n",
       "      <th>catid</th>\n",
       "      <th>folder</th>\n",
       "      <th>manual</th>\n",
       "      <th>nadir</th>\n",
       "      <th>name</th>\n",
       "      <th>tangent</th>\n",
       "      <th>weight</th>\n",
       "      <th>nadir_cat</th>\n",
       "    </tr>\n",
       "  </thead>\n",
       "  <tbody>\n",
       "    <tr>\n",
       "      <th>0</th>\n",
       "      <td>1030010003D22F00</td>\n",
       "      <td>Atlanta_nadir7_catid_1030010003D22F00</td>\n",
       "      <td>1.0</td>\n",
       "      <td>7.8</td>\n",
       "      <td>mask_736301_3726489.tif</td>\n",
       "      <td>118.4</td>\n",
       "      <td>1</td>\n",
       "      <td>Nadir</td>\n",
       "    </tr>\n",
       "    <tr>\n",
       "      <th>1</th>\n",
       "      <td>1030010003D22F00</td>\n",
       "      <td>Atlanta_nadir7_catid_1030010003D22F00</td>\n",
       "      <td>1.0</td>\n",
       "      <td>7.8</td>\n",
       "      <td>mask_734951_3726039.tif</td>\n",
       "      <td>118.4</td>\n",
       "      <td>1</td>\n",
       "      <td>Nadir</td>\n",
       "    </tr>\n",
       "    <tr>\n",
       "      <th>2</th>\n",
       "      <td>1030010003D22F00</td>\n",
       "      <td>Atlanta_nadir7_catid_1030010003D22F00</td>\n",
       "      <td>1.0</td>\n",
       "      <td>7.8</td>\n",
       "      <td>mask_739901_3736839.tif</td>\n",
       "      <td>118.4</td>\n",
       "      <td>1</td>\n",
       "      <td>Nadir</td>\n",
       "    </tr>\n",
       "    <tr>\n",
       "      <th>3</th>\n",
       "      <td>1030010003D22F00</td>\n",
       "      <td>Atlanta_nadir7_catid_1030010003D22F00</td>\n",
       "      <td>1.0</td>\n",
       "      <td>7.8</td>\n",
       "      <td>mask_743501_3723789.tif</td>\n",
       "      <td>118.4</td>\n",
       "      <td>1</td>\n",
       "      <td>Nadir</td>\n",
       "    </tr>\n",
       "    <tr>\n",
       "      <th>4</th>\n",
       "      <td>1030010003D22F00</td>\n",
       "      <td>Atlanta_nadir7_catid_1030010003D22F00</td>\n",
       "      <td>1.0</td>\n",
       "      <td>7.8</td>\n",
       "      <td>mask_735851_3720639.tif</td>\n",
       "      <td>118.4</td>\n",
       "      <td>1</td>\n",
       "      <td>Nadir</td>\n",
       "    </tr>\n",
       "  </tbody>\n",
       "</table>\n",
       "</div>"
      ],
      "text/plain": [
       "              catid                                 folder  manual nadir  \\\n",
       "0  1030010003D22F00  Atlanta_nadir7_catid_1030010003D22F00     1.0   7.8   \n",
       "1  1030010003D22F00  Atlanta_nadir7_catid_1030010003D22F00     1.0   7.8   \n",
       "2  1030010003D22F00  Atlanta_nadir7_catid_1030010003D22F00     1.0   7.8   \n",
       "3  1030010003D22F00  Atlanta_nadir7_catid_1030010003D22F00     1.0   7.8   \n",
       "4  1030010003D22F00  Atlanta_nadir7_catid_1030010003D22F00     1.0   7.8   \n",
       "\n",
       "                      name tangent weight nadir_cat  \n",
       "0  mask_736301_3726489.tif   118.4      1     Nadir  \n",
       "1  mask_734951_3726039.tif   118.4      1     Nadir  \n",
       "2  mask_739901_3736839.tif   118.4      1     Nadir  \n",
       "3  mask_743501_3723789.tif   118.4      1     Nadir  \n",
       "4  mask_735851_3720639.tif   118.4      1     Nadir  "
      ]
     },
     "execution_count": 35,
     "metadata": {},
     "output_type": "execute_result"
    }
   ],
   "source": [
    "ful_df.head(5)"
   ]
  },
  {
   "cell_type": "code",
   "execution_count": null,
   "metadata": {},
   "outputs": [],
   "source": [
    "manual_df = get_dataframe('/media/user/5674E720138ECEDF/geo_data/manual_labelling/images_for_labeling/', weight=1)\n",
    "print(len(manual_df))"
   ]
  },
  {
   "cell_type": "code",
   "execution_count": 8,
   "metadata": {},
   "outputs": [],
   "source": [
    "# Assign more weigths\n",
    "manual_df.loc[manual_df['name'].isin(boost_images), 'weight'] = 3 \n",
    "manual_df.loc[manual_df['folder'] == '19_harris_235', 'weight'] = 3 \n",
    "# manual_df.loc[manual_df['folder'] == '19_harris_235', 'weight'] = 3 "
   ]
  },
  {
   "cell_type": "code",
   "execution_count": 9,
   "metadata": {},
   "outputs": [],
   "source": [
    "train_man, test = train_test_split(manual_df, test_size=0.2, random_state=0, stratify=manual_df[['grove']])"
   ]
  },
  {
   "cell_type": "code",
   "execution_count": 10,
   "metadata": {},
   "outputs": [],
   "source": [
    "train_only_man, val_only_man = train_test_split(train_man, test_size=0.2, random_state=0, stratify=train_man[['grove']])"
   ]
  },
  {
   "cell_type": "code",
   "execution_count": null,
   "metadata": {},
   "outputs": [],
   "source": [
    "train_only_man['weight'].value_counts()"
   ]
  },
  {
   "cell_type": "code",
   "execution_count": 7,
   "metadata": {},
   "outputs": [],
   "source": [
    "boost_images= ['s4_tv3_project_noalpha_reflectance_nrg_1_1_1000_3220_3958.png',\n",
    " 's4_gh3_project_noalpha_reflectance_nrg_1_1_931_2946_3346.png',\n",
    " 'm1_tv3_nrg_sumo14_30_149_798_1275.png',\n",
    " '15_nrg_15_345_1173_489.png',\n",
    " '12_nrg_12_340_852_3730.png',\n",
    " '10_nrg_10_417_936_4189.png',\n",
    " 's4_gh3_project_noalpha_reflectance_nrg_1_1_880_2711_635.png',\n",
    " 's5_rv1_project_transparent_reflectance_nrg_66_117_855.png',\n",
    " 'm1_tv3_nrg_sumo14_30_144_798_1940.png',\n",
    " '12_nrg_12_575_1385_1067.png',\n",
    " 's4_gh3_project_noalpha_reflectance_nrg_1_1_968_3064_3346.png',\n",
    " '10_nrg_10_280_624_4085.png',\n",
    " '10_nrg_10_605_1353_3773.png',\n",
    " 's5_rv1_project_transparent_reflectance_nrg_233_705_3558.png',\n",
    " '150318_mike_118_sumo14_150318_mike_118_sumo14_sq_index_nrg_501_798_1880.png',\n",
    " 'm1_tv3_nrg_sumo14_30_169_931_1674.png',\n",
    " 's4_tv3_project_noalpha_reflectance_nrg_1_1_1213_3817_618.png',\n",
    " 's5_rv1_project_transparent_reflectance_nrg_173_470_1678.png',\n",
    " 's4_tv3_project_noalpha_reflectance_nrg_1_1_1076_3459_3720.png',\n",
    " 's5_rv1_project_transparent_reflectance_nrg_63_117_1208.png',\n",
    " '150318_mike_118_sumo14_150318_mike_118_sumo14_sq_index_nrg_171_266_6406.png',\n",
    " '10_nrg_10_188_416_4085.png',\n",
    " '10_nrg_10_420_936_3877.png',\n",
    " '150318_mike_118_sumo14_150318_mike_118_sumo14_sq_index_nrg_1874_3328_6273.png',\n",
    " '10_nrg_10_419_936_3981.png',\n",
    " '15_nrg_15_313_1056_489.png',\n",
    " 'm1_tv3_nrg_2_30_4309_7091_2315.png',\n",
    " '150318_mike_118_sumo14_150318_mike_118_sumo14_sq_index_nrg_1875_3328_6140.png',\n",
    " '10_nrg_10_305_624_1483.png',\n",
    " 's5_rv1_project_transparent_reflectance_nrg_67_117_738.png',\n",
    " '150318_mike_118_sumo14_150318_mike_118_sumo14_sq_index_nrg_499_798_2146.png',\n",
    " 's4_gh3_project_noalpha_reflectance_nrg_1_1_896_2829_3110.png',\n",
    " 'm1_tv3_nrg_sumo14_30_174_931_1009.png',\n",
    " '10_nrg_10_96_208_4085.png',\n",
    " '150318_mike_118_sumo14_150318_mike_118_sumo14_sq_index_nrg_502_798_1747.png',\n",
    " 's4_tv3_project_noalpha_reflectance_nrg_1_1_1075_3459_3839.png',\n",
    " '10_nrg_10_415_936_4397.png',\n",
    " 's5_rv1_project_transparent_reflectance_nrg_64_117_1090.png',\n",
    " '10_nrg_10_184_416_4502.png',\n",
    " 'm1_tv3_nrg_sumo14_30_178_931_476.png',\n",
    " 's4_gh3_project_noalpha_reflectance_nrg_1_1_895_2829_3228.png',\n",
    " '10_nrg_10_54_104_3669.png',\n",
    " '150318_mike_118_sumo14_150318_mike_118_sumo14_sq_index_nrg_199_266_2679.png',\n",
    " '150318_mike_118_sumo14_150318_mike_118_sumo14_sq_index_nrg_554_931_4676.png',\n",
    " '12_nrg_12_465_1171_3837.png',\n",
    " 'm1_tv3_nrg_sumo14_30_279_1596_2339.png',\n",
    " 'm1_tv3_nrg_sumo14_30_217_1197_1408.png',\n",
    " '150318_mike_118_sumo14_150318_mike_118_sumo14_sq_index_nrg_240_399_7072.png',\n",
    " 's3_sumo8_project_transparent_reflectance_nrg_333_1473_682.png',\n",
    " 'm1_tv3_nrg_sumo14_30_291_1596_743.png',\n",
    " 'm1_tv3_nrg_sumo14_30_361_1995_610.png',\n",
    " '150318_mike_118_sumo14_150318_mike_118_sumo14_sq_index_nrg_708_1198_3877.png',\n",
    " 'm1_tv3_nrg_sumo14_30_195_1064_1275.png',\n",
    " '19_nrg_19_154_681_507.png',\n",
    " 's4_tv3_project_noalpha_reflectance_nrg_1_1_1031_3220_260.png',\n",
    " 'm1_tv3_nrg_sumo14_30_201_1064_476.png',\n",
    " 's3_sumo8_project_transparent_reflectance_nrg_180_818_3466.png',\n",
    " 's5_rv1_project_transparent_reflectance_nrg_298_822_385.png',\n",
    " 'm1_tv3_nrg_sumo14_30_243_1330_1009.png',\n",
    " '10_nrg_10_414_936_4502.png',\n",
    " 'm1_tv3_nrg_sumo14_30_171_931_1408.png',\n",
    " '19_nrg_19_599_2954_2212.png',\n",
    " 's4_gh3_project_noalpha_reflectance_nrg_1_1_934_2946_2993.png',\n",
    " 'm1_tv3_nrg_sumo14_30_167_931_1940.png',\n",
    " '19_nrg_19_199_909_621.png',\n",
    " 's3_sumo14_project_transparent_reflectance_nrg_138_764_1735.png',\n",
    " '10_nrg_10_573_1248_2316.png',\n",
    " 's5_rv1_project_transparent_reflectance_nrg_212_587_1560.png',\n",
    " 'm1_tv3_nrg_sumo14_30_197_1064_1009.png',\n",
    " 's5_rv1_project_transparent_reflectance_nrg_100_235_1325.png',\n",
    " 's3_lln1_project_transparent_reflectance_nrg_214_950_2048.png',\n",
    " 's3_sumo14_project_transparent_reflectance_nrg_139_764_1608.png',\n",
    " '10_nrg_10_283_624_3773.png',\n",
    " 'm1_tv3_nrg_sumo14_30_198_1064_876.png',\n",
    " 's4_gh3_project_noalpha_reflectance_nrg_1_1_971_3064_2993.png',\n",
    " 'm1_tv3_nrg_sumo14_30_146_798_1674.png',\n",
    " '150318_mike_118_sumo14_150318_mike_118_sumo14_sq_index_nrg_415_665_3478.png',\n",
    " 's3_sumo8_project_transparent_reflectance_nrg_500_2292_1173.png',\n",
    " 'm1_tv3_nrg_sumo14_30_224_1197_476.png',\n",
    " 's4_gh3_project_noalpha_reflectance_nrg_1_1_160_471_2639.png',\n",
    " '10_nrg_10_600_1353_4293.png']"
   ]
  },
  {
   "cell_type": "code",
   "execution_count": null,
   "metadata": {},
   "outputs": [],
   "source": [
    "train_only_man['grove']"
   ]
  },
  {
   "cell_type": "code",
   "execution_count": null,
   "metadata": {},
   "outputs": [],
   "source": [
    "manual_df['name']"
   ]
  },
  {
   "cell_type": "code",
   "execution_count": null,
   "metadata": {},
   "outputs": [],
   "source": [
    "cleaning_list = ['m1_tv3_nrg_sumo14_30_240_1330_1408.png',\n",
    " '150318_mike_118_sumo14_150318_mike_118_sumo14_sq_index_nrg_21_0_6673.png',\n",
    " 's6_tv4_project_transparent_reflectance_nrg_107_239_501.png',\n",
    " 'm1_tv3_nrg_sumo14_30_206_1064_0.png',\n",
    " '15_nrg_15_313_1056_489.png',\n",
    " 'citrusuco50318_project_transparent_reflectance_nrg_226_1140_2715.png',\n",
    " 'm1_tv3_nrg_sumo14_30_166_931_2073.png',\n",
    " 'citrusuco50515_project_transparent_reflectance_nrg_1224_2921_1717.png',\n",
    " 'm1_tv3_nrg_2_30_21_0_5624.png',\n",
    " 'm1_tv3_nrg_2_30_159_236_6097.png',\n",
    " '12_nrg_12_465_1171_3837.png',\n",
    " '19_nrg_19_599_2954_2212.png',\n",
    " '10_nrg_10_342_728_2420.png',\n",
    " '150318_mike_118_sumo14_150318_mike_118_sumo14_sq_index_nrg_561_931_3744.png',\n",
    " '10_nrg_10_599_1353_4397.png',\n",
    " '150318_mike_118_sumo14_150318_mike_118_sumo14_sq_index_nrg_709_1198_3744.png',\n",
    " '150318_mike_118_sumo14_150318_mike_118_sumo14_sq_index_nrg_708_1198_3877.png',\n",
    " '10_nrg_10_184_416_4502.png',\n",
    " '19_nrg_19_622_3067_2212.png',\n",
    " 's4_tv3_project_noalpha_reflectance_nrg_1_1_151_477_3720.png',\n",
    " '12_nrg_12_341_852_3624.png',\n",
    " '12_nrg_12_173_426_3624.png',\n",
    " 's4_tv3_project_noalpha_reflectance_nrg_1_1_151_477_3720.png',\n",
    " 'm1_tv3_nrg_sumo14_30_262_1463_1541.png',\n",
    " 's4_gh3_project_noalpha_reflectance_nrg_1_1_955_2946_517.png',\n",
    " '150318_mike_118_sumo14_150318_mike_118_sumo14_sq_index_nrg_171_266_6406.png',\n",
    " 'm1_tv3_nrg_sumo14_30_324_1862_2472.png',\n",
    " '150318_mike_118_sumo14_150318_mike_118_sumo14_sq_index_nrg_199_266_2679.png',\n",
    " 'm1_tv3_nrg_2_30_1004_1654_6925.png',\n",
    " 's4_tv3_project_noalpha_reflectance_nrg_1_1_216_596_380.png',\n",
    " '150318_mike_118_sumo14_150318_mike_118_sumo14_sq_index_nrg_536_931_7072.png',\n",
    " 'm1_tv3_nrg_2_30_1075_1772_6925.png',\n",
    " '150318_mike_118_sumo14_150318_mike_118_sumo14_sq_index_nrg_856_1464_3877.png',\n",
    " '150318_mike_118_sumo14_150318_mike_118_sumo14_sq_index_nrg_1066_1863_5475.png',\n",
    " '150318_mike_118_sumo14_150318_mike_118_sumo14_sq_index_nrg_501_798_1880.png',\n",
    " '150318_mike_118_sumo14_150318_mike_118_sumo14_sq_index_nrg_502_798_1747.png',\n",
    " '19_nrg_19_154_681_507.png',\n",
    " '19_nrg_19_199_909_621.png',\n",
    " '19_nrg_19_599_2954_2212.png',\n",
    " '19_nrg_19_602_2954_1871.png',\n",
    " 'm1_tv3_nrg_2_30_21_0_5624.png',\n",
    " 'm1_tv3_nrg_2_30_25_0_5152.png',\n",
    " 'm1_tv3_nrg_sumo14_30_365_1995_77.png',\n",
    " 'm1_tv3_nrg_sumo14_30_65_266_210.png',\n",
    " 'm1_tv3_nrg_sumo14_30_206_1064_0.png',\n",
    " '10_nrg_10_342_728_2420.png',\n",
    " '150318_mike_118_sumo14_150318_mike_118_sumo14_sq_index_nrg_708_1198_3877.png',\n",
    " '150318_mike_118_sumo14_150318_mike_118_sumo14_sq_index_nrg_709_1198_3744.png',\n",
    " '150318_mike_118_sumo14_150318_mike_118_sumo14_sq_index_nrg_556_931_4409.png',\n",
    " '150318_mike_118_sumo14_150318_mike_118_sumo14_sq_index_nrg_561_931_3744.png',\n",
    " 's4_tv3_project_noalpha_reflectance_nrg_1_1_1000_3220_3958.png',\n",
    " '19_nrg_19_153_681_621.png',\n",
    " '19_nrg_19_176_795_621.png',\n",
    " 'm1_tv3_nrg_2_30_1004_1654_6925.png',\n",
    " 'm1_tv3_nrg_sumo14_30_288_1596_1142.png',\n",
    " 'm1_tv3_nrg_sumo14_30_198_1064_876.png',\n",
    " 'm1_tv3_nrg_sumo14_30_217_1197_1408.png',\n",
    " 'm1_tv3_nrg_sumo14_30_220_1197_1009.png',\n",
    " 'm1_tv3_nrg_sumo14_30_153_798_743.png',\n",
    " '12_nrg_12_301_745_3411.png',\n",
    " '12_nrg_12_465_1171_3837.png',\n",
    " '10_nrg_10_184_416_4502.png',\n",
    " '10_nrg_10_414_936_4502.png',\n",
    " '10_nrg_10_415_936_4397.png',\n",
    " '10_nrg_10_599_1353_4397.png',\n",
    " '150318_mike_118_sumo14_150318_mike_118_sumo14_sq_index_nrg_22_0_6540.png',\n",
    " '150318_mike_118_sumo14_150318_mike_118_sumo14_sq_index_nrg_553_931_4809.png',\n",
    " '150318_mike_118_sumo14_150318_mike_118_sumo14_sq_index_nrg_560_931_3877.png',\n",
    " '150318_mike_118_sumo14_150318_mike_118_sumo14_sq_index_nrg_241_399_6939.png',\n",
    " 's4_tv3_project_noalpha_reflectance_nrg_1_1_1213_3817_618.png',\n",
    " 's6_tv4_project_transparent_reflectance_nrg_196_598_3493.png',\n",
    " '19_nrg_19_199_909_621.png',\n",
    " '15_nrg_15_345_1173_489.png',\n",
    " 'm1_tv3_nrg_sumo14_30_266_1463_1009.png',\n",
    " 'm1_tv3_nrg_sumo14_30_178_931_476.png',\n",
    " 'm1_tv3_nrg_sumo14_30_195_1064_1275.png',\n",
    " 'm1_tv3_nrg_sumo14_30_196_1064_1142.png',\n",
    " 'm1_tv3_nrg_sumo14_30_197_1064_1009.png',\n",
    " 'm1_tv3_nrg_sumo14_30_201_1064_476.png',\n",
    " 'm1_tv3_nrg_sumo14_30_206_1064_0.png',\n",
    " 'm1_tv3_nrg_sumo14_30_243_1330_1009.png',\n",
    " 'm1_tv3_nrg_sumo14_30_174_931_1009.png',\n",
    " '12_nrg_12_469_1171_3411.png',\n",
    " '36_nrg_36_141_268_1322.png',\n",
    " '150318_mike_118_sumo14_150318_mike_118_sumo14_sq_index_nrg_917_1597_5608.png',\n",
    " 'citrusuco50515_project_transparent_reflectance_nrg_718_1685_1717.png',\n",
    " '150318_mike_118_sumo14_150318_mike_118_sumo14_sq_index_nrg_167_266_6939.png',\n",
    " '15_nrg_15_368_1290_1545.png',\n",
    " '150318_mike_118_sumo14_150318_mike_118_sumo14_sq_index_nrg_531_931_7738.png',\n",
    " 's4_tv3_project_noalpha_reflectance_nrg_1_1_151_477_3720.png',\n",
    " 's4_tv3_project_noalpha_reflectance_nrg_1_1_216_596_380.png',\n",
    " 's6_tv4_project_transparent_reflectance_nrg_197_598_3373.png',\n",
    " 'm1_tv3_nrg_sumo14_30_262_1463_1541.png',\n",
    " 'm1_tv3_nrg_sumo14_30_215_1197_1674.png']"
   ]
  },
  {
   "cell_type": "code",
   "execution_count": null,
   "metadata": {},
   "outputs": [],
   "source": [
    "len(manual_df)"
   ]
  },
  {
   "cell_type": "code",
   "execution_count": null,
   "metadata": {},
   "outputs": [],
   "source": [
    "set(manual_df['folder'].values.tolist())"
   ]
  },
  {
   "cell_type": "code",
   "execution_count": null,
   "metadata": {},
   "outputs": [],
   "source": [
    "manual_df['name'].isin(cleaning_list).sum()"
   ]
  },
  {
   "cell_type": "code",
   "execution_count": null,
   "metadata": {},
   "outputs": [],
   "source": [
    "manual_df[manual_df['name'].isin(['150318_mike_118_sumo14_150318_mike_118_sumo14_sq_index_nrg_199_266_2679.png',\n",
    "                                 '150318_mike_118_sumo14_150318_mike_118_sumo14_sq_index_nrg_21_0_6673.png'])]"
   ]
  },
  {
   "cell_type": "code",
   "execution_count": null,
   "metadata": {},
   "outputs": [],
   "source": [
    "manual_df[manual_df['folder'] =='m1_tv3']"
   ]
  },
  {
   "cell_type": "code",
   "execution_count": null,
   "metadata": {},
   "outputs": [],
   "source": [
    "len(set(cleaning_list))"
   ]
  },
  {
   "cell_type": "code",
   "execution_count": null,
   "metadata": {},
   "outputs": [],
   "source": [
    "len(cleaning_list)"
   ]
  },
  {
   "cell_type": "code",
   "execution_count": null,
   "metadata": {},
   "outputs": [],
   "source": [
    "len()"
   ]
  },
  {
   "cell_type": "code",
   "execution_count": null,
   "metadata": {},
   "outputs": [],
   "source": [
    "# Assign more weigths\n",
    "manual_df.loc[manual_df['name'].isin(boost_images), 'weight'] = 3 \n",
    "manual_df.loc[manual_df['folder'] == '19_harris_235', 'weight'] = 3 "
   ]
  },
  {
   "cell_type": "code",
   "execution_count": null,
   "metadata": {},
   "outputs": [],
   "source": []
  },
  {
   "cell_type": "code",
   "execution_count": null,
   "metadata": {},
   "outputs": [],
   "source": [
    "manual_df['weight'].value_counts()"
   ]
  },
  {
   "cell_type": "code",
   "execution_count": null,
   "metadata": {},
   "outputs": [],
   "source": [
    "# Drop bad labels\n",
    "manual_df.drop(manual_df['name'].isin(set(cleaning_list)), inplace=True)\n",
    "print(len(manual_df))"
   ]
  },
  {
   "cell_type": "code",
   "execution_count": null,
   "metadata": {},
   "outputs": [],
   "source": [
    "len(cleaning_list)"
   ]
  },
  {
   "cell_type": "code",
   "execution_count": null,
   "metadata": {},
   "outputs": [],
   "source": [
    "len(manual_df)"
   ]
  },
  {
   "cell_type": "code",
   "execution_count": null,
   "metadata": {},
   "outputs": [],
   "source": [
    "manual_df.to_csv('/media/user/5674E720138ECEDF/geo_data/manual_df.df', index=False)"
   ]
  },
  {
   "cell_type": "code",
   "execution_count": null,
   "metadata": {},
   "outputs": [],
   "source": [
    "auto_df_brazil = get_dataframe('/home/user/projects/geo/geoslicer/output/', weight=1, manual=0)"
   ]
  },
  {
   "cell_type": "code",
   "execution_count": null,
   "metadata": {},
   "outputs": [],
   "source": [
    "auto_df_brazil.to_csv('/media/user/5674E720138ECEDF/geo_data/test_brazil.df', index=False)"
   ]
  },
  {
   "cell_type": "code",
   "execution_count": null,
   "metadata": {},
   "outputs": [],
   "source": [
    "auto_df = get_dataframe('/media/user/5674E720138ECEDF/geo_data/polygons_for_train/', weight=1, manual=0)"
   ]
  },
  {
   "cell_type": "code",
   "execution_count": null,
   "metadata": {},
   "outputs": [],
   "source": [
    "train_auto, val_aut = train_test_split(auto_df, test_size=0.3, random_state=0, stratify=auto_df[['grove']])\n",
    "# train_aut, val_aut = train_test_split(train_auto, test_size=0.3, random_state=0, stratify=train_auto[['grove']])"
   ]
  },
  {
   "cell_type": "code",
   "execution_count": null,
   "metadata": {},
   "outputs": [],
   "source": [
    "full_df = pd.concat([auto_df, train_man])\n",
    "print(len(full_df))"
   ]
  },
  {
   "cell_type": "code",
   "execution_count": null,
   "metadata": {},
   "outputs": [],
   "source": [
    "full_df['bc'] = full_df['grove'].astype(str) + full_df['manual'].astype(str)\n",
    "train, val = train_test_split(full_df, test_size=0.2, random_state=0, stratify=full_df[['bc']])"
   ]
  },
  {
   "cell_type": "code",
   "execution_count": null,
   "metadata": {},
   "outputs": [],
   "source": [
    "full_df.head(5)"
   ]
  },
  {
   "cell_type": "code",
   "execution_count": null,
   "metadata": {},
   "outputs": [],
   "source": [
    "train_auto.to_csv('/media/user/5674E720138ECEDF/geo_data/train_aut.df', index=False)\n",
    "val_aut.to_csv('/media/user/5674E720138ECEDF/geo_data/val_aut.df', index=False)\n",
    "# test.to_csv('/media/user/5674E720138ECEDF/geo_data/test.df', index=False)"
   ]
  },
  {
   "cell_type": "code",
   "execution_count": null,
   "metadata": {},
   "outputs": [],
   "source": [
    "train.to_csv('/media/user/5674E720138ECEDF/geo_data/train.df', index=False)\n",
    "val.to_csv('/media/user/5674E720138ECEDF/geo_data/val.df', index=False)\n",
    "test.to_csv('/media/user/5674E720138ECEDF/geo_data/test.df', index=False)"
   ]
  },
  {
   "cell_type": "code",
   "execution_count": null,
   "metadata": {},
   "outputs": [],
   "source": [
    "train_only_man.to_csv('/media/user/5674E720138ECEDF/geo_data/train_only_man.df', index=False)\n",
    "val_only_man.to_csv('/media/user/5674E720138ECEDF/geo_data/val_only_man.df', index=False)\n",
    "test.to_csv('/media/user/5674E720138ECEDF/geo_data/test.df', index=False)"
   ]
  },
  {
   "cell_type": "code",
   "execution_count": null,
   "metadata": {},
   "outputs": [],
   "source": [
    "train_only_man.to_csv('/media/user/5674E720138ECEDF/geo_data/train_only_man_boosted.df', index=False)\n",
    "val_only_man.to_csv('/media/user/5674E720138ECEDF/geo_data/val_only_man_boosted.df', index=False)\n",
    "test.to_csv('/media/user/5674E720138ECEDF/geo_data/test_boosted.df', index=False)"
   ]
  },
  {
   "cell_type": "code",
   "execution_count": null,
   "metadata": {},
   "outputs": [],
   "source": [
    "train_only_man.to_csv('/media/user/5674E720138ECEDF/geo_data/train_only_man_boosted.df', index=False)"
   ]
  },
  {
   "cell_type": "code",
   "execution_count": null,
   "metadata": {},
   "outputs": [],
   "source": [
    "len(train_only_man)"
   ]
  },
  {
   "cell_type": "code",
   "execution_count": null,
   "metadata": {},
   "outputs": [],
   "source": [
    "len(val_only_man)"
   ]
  },
  {
   "cell_type": "code",
   "execution_count": null,
   "metadata": {},
   "outputs": [],
   "source": [
    "len(test)"
   ]
  },
  {
   "cell_type": "code",
   "execution_count": null,
   "metadata": {},
   "outputs": [],
   "source": [
    "x_t = train[10:20]"
   ]
  },
  {
   "cell_type": "code",
   "execution_count": null,
   "metadata": {},
   "outputs": [],
   "source": [
    "for ind, row in x_t.iterrows():\n",
    "    print(row['name'])"
   ]
  },
  {
   "cell_type": "code",
   "execution_count": null,
   "metadata": {},
   "outputs": [],
   "source": [
    "test.iloc[0]"
   ]
  },
  {
   "cell_type": "code",
   "execution_count": null,
   "metadata": {},
   "outputs": [],
   "source": [
    "test.head(5)"
   ]
  },
  {
   "cell_type": "code",
   "execution_count": null,
   "metadata": {},
   "outputs": [],
   "source": [
    "more_weights = ['12_nrg_12_275_639_1706.png',\n",
    " '12_nrg_12_296_745_3943.png',\n",
    " '12_nrg_12_299_745_3624.png',\n",
    " '12_nrg_12_300_745_3517.png',\n",
    " '12_nrg_12_301_745_3411.png',\n",
    " '12_nrg_12_302_745_3304.png',\n",
    " '12_nrg_12_350_852_2665.png',\n",
    " '12_nrg_12_215_532_3624.png',\n",
    " '12_nrg_12_217_532_3411.png',\n",
    " '12_nrg_12_218_532_3304.png',\n",
    " '12_nrg_12_222_532_2878.png',\n",
    " '12_nrg_12_465_1171_3837.png',\n",
    " '12_nrg_12_467_1171_3624.png',\n",
    " '12_nrg_12_468_1171_3517.png',\n",
    " '12_nrg_12_469_1171_3411.png',\n",
    " '12_nrg_12_470_1171_3304.png',\n",
    " '12_nrg_12_476_1171_2665.png',\n",
    " '12_nrg_12_319_745_1493.png',\n",
    " '12_nrg_12_320_745_1386.png',\n",
    " '12_nrg_12_339_852_3837.png',\n",
    " '12_nrg_12_340_852_3730.png',\n",
    " '12_nrg_12_341_852_3624.png',\n",
    " '12_nrg_12_343_852_3411.png',\n",
    " '12_nrg_12_344_852_3304.png',\n",
    " '12_nrg_12_171_426_3837.png',\n",
    " '12_nrg_12_172_426_3730.png',\n",
    " '12_nrg_12_173_426_3624.png',\n",
    " '12_nrg_12_174_426_3517.png',\n",
    " '12_nrg_12_178_426_3091.png',\n",
    " '12_nrg_12_180_426_2878.png',\n",
    " '12_nrg_12_575_1385_1067.png',\n",
    " '12_nrg_12_577_1385_854.png',\n",
    " '12_nrg_12_439_1065_2132.png',\n",
    " '10_nrg_10_104_208_3253.png',\n",
    " '10_nrg_10_122_208_1379.png',\n",
    " '10_nrg_10_174_312_755.png',\n",
    " '10_nrg_10_184_416_4502.png',\n",
    " '10_nrg_10_186_416_4293.png',\n",
    " '10_nrg_10_188_416_4085.png',\n",
    " '10_nrg_10_201_416_2732.png',\n",
    " '10_nrg_10_207_416_2108.png',\n",
    " '10_nrg_10_234_520_4085.png',\n",
    " '10_nrg_10_414_936_4502.png',\n",
    " '10_nrg_10_415_936_4397.png',\n",
    " '10_nrg_10_417_936_4189.png',\n",
    " '10_nrg_10_419_936_3981.png',\n",
    " '10_nrg_10_420_936_3877.png',\n",
    " '10_nrg_10_600_1353_4293.png',\n",
    " '10_nrg_10_602_1353_4085.png',\n",
    " '10_nrg_10_603_1353_3981.png',\n",
    " '10_nrg_10_605_1353_3773.png',\n",
    " '10_nrg_10_607_1353_3565.png',\n",
    " '10_nrg_10_247_520_2732.png',\n",
    " '10_nrg_10_278_624_4293.png',\n",
    " '10_nrg_10_280_624_4085.png',\n",
    " '10_nrg_10_283_624_3773.png',\n",
    " '10_nrg_10_293_624_2732.png',\n",
    " '10_nrg_10_305_624_1483.png',\n",
    " '10_nrg_10_341_728_2524.png',\n",
    " '10_nrg_10_342_728_2420.png',\n",
    " '10_nrg_10_239_520_3565.png',\n",
    " '10_nrg_10_599_1353_4397.png',\n",
    " '10_nrg_10_50_104_4085.png',\n",
    " '10_nrg_10_51_104_3981.png',\n",
    " '10_nrg_10_534_1144_1587.png',\n",
    " '10_nrg_10_54_104_3669.png',\n",
    " '10_nrg_10_55_104_3565.png',\n",
    " '10_nrg_10_573_1248_2316.png',\n",
    " '10_nrg_10_760_1665_2004.png',\n",
    " '10_nrg_10_787_1769_3981.png',\n",
    " '10_nrg_10_791_1769_3565.png',\n",
    " '10_nrg_10_97_208_3981.png',\n",
    " '10_nrg_10_98_208_3877.png',\n",
    " '36_nrg_36_141_268_1322.png',\n",
    " '36_nrg_36_173_403_3875.png',\n",
    " '36_nrg_36_192_403_1322.png',\n",
    " '36_nrg_36_206_537_6294.png',\n",
    " '36_nrg_36_209_537_5891.png',\n",
    " '36_nrg_36_221_537_4278.png',\n",
    " '36_nrg_36_238_537_1994.png',\n",
    " '36_nrg_36_63_134_4950.png',\n",
    " '36_nrg_36_651_1612_1322.png',\n",
    " '36_nrg_36_819_2149_6159.png',\n",
    " 'citrusuco50315_project_transparent_reflectance_nrg_356_945_173.png',\n",
    " 'citrusuco50318_project_transparent_reflectance_nrg_226_1140_2715.png',\n",
    " 'citrusuco50515_project_transparent_reflectance_nrg_1224_2921_1717.png',\n",
    " 'citrusuco50515_project_transparent_reflectance_nrg_1226_2921_1492.png',\n",
    " 'citrusuco50515_project_transparent_reflectance_nrg_718_1685_1717.png',\n",
    " 's3_sumo14_project_transparent_reflectance_nrg_119_637_1353.png',\n",
    " 's4_gh3_project_noalpha_reflectance_nrg_1_1_75_235_3936.png',\n",
    " 's4_gh3_project_noalpha_reflectance_nrg_1_1_76_235_3818.png',\n",
    " 's4_gh3_project_noalpha_reflectance_nrg_1_1_77_235_3700.png',\n",
    " 's4_gh3_project_noalpha_reflectance_nrg_1_1_78_235_3582.png',\n",
    " 's5_rv1_project_transparent_reflectance_nrg_170_470_2030.png',\n",
    " 's5_rv1_project_transparent_reflectance_nrg_172_470_1795.png',\n",
    " 's5_rv1_project_transparent_reflectance_nrg_173_470_1678.png',\n",
    " 's5_rv1_project_transparent_reflectance_nrg_174_470_1560.png',\n",
    " 's4_gh3_project_noalpha_reflectance_nrg_1_1_894_2829_3346.png',\n",
    " 's4_gh3_project_noalpha_reflectance_nrg_1_1_895_2829_3228.png',\n",
    " 's4_gh3_project_noalpha_reflectance_nrg_1_1_896_2829_3110.png',\n",
    " 's4_gh3_project_noalpha_reflectance_nrg_1_1_897_2829_2993.png',\n",
    " 's4_gh3_project_noalpha_reflectance_nrg_1_1_898_2829_2875.png',\n",
    " 's4_gh3_project_noalpha_reflectance_nrg_1_1_899_2829_2757.png',\n",
    " 's4_gh3_project_noalpha_reflectance_nrg_1_1_121_353_2875.png',\n",
    " 's4_gh3_project_noalpha_reflectance_nrg_1_1_156_471_3110.png',\n",
    " 's4_gh3_project_noalpha_reflectance_nrg_1_1_41_117_3582.png',\n",
    " 's4_gh3_project_noalpha_reflectance_nrg_1_1_158_471_2875.png',\n",
    " 's4_gh3_project_noalpha_reflectance_nrg_1_1_159_471_2757.png',\n",
    " 's4_gh3_project_noalpha_reflectance_nrg_1_1_160_471_2639.png',\n",
    " 's4_gh3_project_noalpha_reflectance_nrg_1_1_162_471_2403.png',\n",
    " 's4_gh3_project_noalpha_reflectance_nrg_1_1_163_471_2285.png',\n",
    " 's4_gh3_project_noalpha_reflectance_nrg_1_1_196_589_2757.png',\n",
    " 's4_gh3_project_noalpha_reflectance_nrg_1_1_934_2946_2993.png',\n",
    " 's4_gh3_project_noalpha_reflectance_nrg_1_1_943_2946_1932.png',\n",
    " 's4_gh3_project_noalpha_reflectance_nrg_1_1_944_2946_1814.png',\n",
    " 's4_gh3_project_noalpha_reflectance_nrg_1_1_953_2946_753.png',\n",
    " 's4_gh3_project_noalpha_reflectance_nrg_1_1_954_2946_635.png',\n",
    " 's4_gh3_project_noalpha_reflectance_nrg_1_1_955_2946_517.png',\n",
    " 's4_gh3_project_noalpha_reflectance_nrg_1_1_956_2946_399.png',\n",
    " 's4_gh3_project_noalpha_reflectance_nrg_1_1_117_353_3346.png',\n",
    " 's4_gh3_project_noalpha_reflectance_nrg_1_1_118_353_3228.png',\n",
    " 's4_gh3_project_noalpha_reflectance_nrg_1_1_11_0_2757.png',\n",
    " 's5_rv1_project_transparent_reflectance_nrg_234_705_3440.png',\n",
    " 's5_rv1_project_transparent_reflectance_nrg_236_705_3205.png',\n",
    " 's5_rv1_project_transparent_reflectance_nrg_237_705_3088.png',\n",
    " 's5_rv1_project_transparent_reflectance_nrg_284_822_2030.png',\n",
    " 's5_rv1_project_transparent_reflectance_nrg_66_117_855.png',\n",
    " 's5_rv1_project_transparent_reflectance_nrg_67_117_738.png',\n",
    " 's5_rv1_project_transparent_reflectance_nrg_97_235_1678.png',\n",
    " 's5_rv1_project_transparent_reflectance_nrg_98_235_1560.png',\n",
    " 's4_gh3_project_noalpha_reflectance_nrg_1_1_964_3064_3818.png',\n",
    " 's4_gh3_project_noalpha_reflectance_nrg_1_1_965_3064_3700.png',\n",
    " 's4_gh3_project_noalpha_reflectance_nrg_1_1_968_3064_3346.png',\n",
    " 's4_gh3_project_noalpha_reflectance_nrg_1_1_971_3064_2993.png',\n",
    " 's4_gh3_project_noalpha_reflectance_nrg_1_1_976_3064_2403.png',\n",
    " 's4_gh3_project_noalpha_reflectance_nrg_1_1_979_3064_2050.png',\n",
    " 's5_rv1_project_transparent_reflectance_nrg_100_235_1325.png',\n",
    " 's5_rv1_project_transparent_reflectance_nrg_101_235_1208.png',\n",
    " 's3_sumo14_project_transparent_reflectance_nrg_47_254_2117.png',\n",
    " 's3_sumo14_project_transparent_reflectance_nrg_138_764_1735.png',\n",
    " 's3_sumo14_project_transparent_reflectance_nrg_139_764_1608.png',\n",
    " 's4_gh3_project_noalpha_reflectance_nrg_1_1_7_0_3228.png',\n",
    " 's4_gh3_project_noalpha_reflectance_nrg_1_1_868_2711_2050.png',\n",
    " 's4_gh3_project_noalpha_reflectance_nrg_1_1_871_2711_1696.png',\n",
    " 's4_gh3_project_noalpha_reflectance_nrg_1_1_880_2711_635.png',\n",
    " 's4_gh3_project_noalpha_reflectance_nrg_1_1_881_2711_517.png',\n",
    " 's4_gh3_project_noalpha_reflectance_nrg_1_1_882_2711_399.png',\n",
    " 's4_gh3_project_noalpha_reflectance_nrg_1_1_45_117_3110.png',\n",
    " 's4_gh3_project_noalpha_reflectance_nrg_1_1_8_0_3110.png',\n",
    " 's4_gh3_project_noalpha_reflectance_nrg_1_1_927_2946_3818.png',\n",
    " 's4_gh3_project_noalpha_reflectance_nrg_1_1_928_2946_3700.png',\n",
    " 's4_gh3_project_noalpha_reflectance_nrg_1_1_92_235_1932.png',\n",
    " 's4_gh3_project_noalpha_reflectance_nrg_1_1_10_0_2875.png',\n",
    " 's4_gh3_project_noalpha_reflectance_nrg_1_1_149_471_3936.png',\n",
    " 's4_gh3_project_noalpha_reflectance_nrg_1_1_150_471_3818.png',\n",
    " 's4_gh3_project_noalpha_reflectance_nrg_1_1_151_471_3700.png',\n",
    " 's4_gh3_project_noalpha_reflectance_nrg_1_1_152_471_3582.png',\n",
    " 's4_gh3_project_noalpha_reflectance_nrg_1_1_153_471_3464.png',\n",
    " 's4_gh3_project_noalpha_reflectance_nrg_1_1_154_471_3346.png',\n",
    " 's4_gh3_project_noalpha_reflectance_nrg_1_1_155_471_3228.png',\n",
    " 's4_gh3_project_noalpha_reflectance_nrg_1_1_891_2829_3700.png',\n",
    " 's4_gh3_project_noalpha_reflectance_nrg_1_1_931_2946_3346.png',\n",
    " 's4_gh3_project_noalpha_reflectance_nrg_1_1_963_3064_3936.png',\n",
    " 's5_rv1_project_transparent_reflectance_nrg_233_705_3558.png',\n",
    " 's5_rv1_project_transparent_reflectance_nrg_285_822_1913.png',\n",
    " 's5_rv1_project_transparent_reflectance_nrg_65_117_973.png',\n",
    " 's5_rv1_project_transparent_reflectance_nrg_211_587_1678.png',\n",
    " 's5_rv1_project_transparent_reflectance_nrg_212_587_1560.png',\n",
    " 's5_rv1_project_transparent_reflectance_nrg_56_117_2030.png',\n",
    " 's5_rv1_project_transparent_reflectance_nrg_63_117_1208.png',\n",
    " 's5_rv1_project_transparent_reflectance_nrg_64_117_1090.png',\n",
    " 's5_rv1_project_transparent_reflectance_nrg_288_822_1560.png',\n",
    " 's5_rv1_project_transparent_reflectance_nrg_297_822_503.png',\n",
    " 's5_rv1_project_transparent_reflectance_nrg_298_822_385.png',\n",
    " '150318_mike_118_sumo14_150318_mike_118_sumo14_sq_index_nrg_1005_1730_3744.png',\n",
    " '150318_mike_118_sumo14_150318_mike_118_sumo14_sq_index_nrg_1006_1730_3611.png',\n",
    " '150318_mike_118_sumo14_150318_mike_118_sumo14_sq_index_nrg_1008_1730_3344.png',\n",
    " '150318_mike_118_sumo14_150318_mike_118_sumo14_sq_index_nrg_1010_1730_3078.png',\n",
    " '150318_mike_118_sumo14_150318_mike_118_sumo14_sq_index_nrg_1013_1730_2679.png',\n",
    " '150318_mike_118_sumo14_150318_mike_118_sumo14_sq_index_nrg_1015_1730_2412.png',\n",
    " '150318_mike_118_sumo14_150318_mike_118_sumo14_sq_index_nrg_1036_1863_9469.png',\n",
    " '150318_mike_118_sumo14_150318_mike_118_sumo14_sq_index_nrg_1037_1863_9335.png',\n",
    " '150318_mike_118_sumo14_150318_mike_118_sumo14_sq_index_nrg_1060_1863_6273.png',\n",
    " '150318_mike_118_sumo14_150318_mike_118_sumo14_sq_index_nrg_1064_1863_5741.png',\n",
    " '150318_mike_118_sumo14_150318_mike_118_sumo14_sq_index_nrg_391_665_6673.png',\n",
    " '150318_mike_118_sumo14_150318_mike_118_sumo14_sq_index_nrg_393_665_6406.png',\n",
    " '150318_mike_118_sumo14_150318_mike_118_sumo14_sq_index_nrg_403_665_5075.png',\n",
    " '150318_mike_118_sumo14_150318_mike_118_sumo14_sq_index_nrg_407_665_4543.png',\n",
    " '150318_mike_118_sumo14_150318_mike_118_sumo14_sq_index_nrg_411_665_4010.png',\n",
    " '150318_mike_118_sumo14_150318_mike_118_sumo14_sq_index_nrg_412_665_3877.png',\n",
    " '150318_mike_118_sumo14_150318_mike_118_sumo14_sq_index_nrg_415_665_3478.png',\n",
    " '150318_mike_118_sumo14_150318_mike_118_sumo14_sq_index_nrg_708_1198_3877.png',\n",
    " '150318_mike_118_sumo14_150318_mike_118_sumo14_sq_index_nrg_709_1198_3744.png',\n",
    " '150318_mike_118_sumo14_150318_mike_118_sumo14_sq_index_nrg_716_1198_2812.png',\n",
    " '150318_mike_118_sumo14_150318_mike_118_sumo14_sq_index_nrg_718_1198_2546.png',\n",
    " '150318_mike_118_sumo14_150318_mike_118_sumo14_sq_index_nrg_167_266_6939.png',\n",
    " '150318_mike_118_sumo14_150318_mike_118_sumo14_sq_index_nrg_170_266_6540.png',\n",
    " '150318_mike_118_sumo14_150318_mike_118_sumo14_sq_index_nrg_171_266_6406.png',\n",
    " '150318_mike_118_sumo14_150318_mike_118_sumo14_sq_index_nrg_174_266_6007.png',\n",
    " '150318_mike_118_sumo14_150318_mike_118_sumo14_sq_index_nrg_1828_3195_2546.png',\n",
    " '150318_mike_118_sumo14_150318_mike_118_sumo14_sq_index_nrg_1965_3461_4010.png',\n",
    " '150318_mike_118_sumo14_150318_mike_118_sumo14_sq_index_nrg_1966_3461_3877.png',\n",
    " '150318_mike_118_sumo14_150318_mike_118_sumo14_sq_index_nrg_199_266_2679.png',\n",
    " '150318_mike_118_sumo14_150318_mike_118_sumo14_sq_index_nrg_21_0_6673.png',\n",
    " '150318_mike_118_sumo14_150318_mike_118_sumo14_sq_index_nrg_22_0_6540.png',\n",
    " '150318_mike_118_sumo14_150318_mike_118_sumo14_sq_index_nrg_1829_3195_2412.png',\n",
    " '150318_mike_118_sumo14_150318_mike_118_sumo14_sq_index_nrg_499_798_2146.png',\n",
    " '150318_mike_118_sumo14_150318_mike_118_sumo14_sq_index_nrg_578_931_1481.png',\n",
    " '150318_mike_118_sumo14_150318_mike_118_sumo14_sq_index_nrg_849_1464_4809.png',\n",
    " '150318_mike_118_sumo14_150318_mike_118_sumo14_sq_index_nrg_876_1464_1214.png',\n",
    " '150318_mike_118_sumo14_150318_mike_118_sumo14_sq_index_nrg_93_133_6939.png',\n",
    " '150318_mike_118_sumo14_150318_mike_118_sumo14_sq_index_nrg_949_1597_1347.png',\n",
    " '150318_mike_118_sumo14_150318_mike_118_sumo14_sq_index_nrg_952_1597_948.png',\n",
    " '150318_mike_118_sumo14_150318_mike_118_sumo14_sq_index_nrg_953_1597_815.png',\n",
    " '150318_mike_118_sumo14_150318_mike_118_sumo14_sq_index_nrg_954_1597_682.png',\n",
    " '150318_mike_118_sumo14_150318_mike_118_sumo14_sq_index_nrg_955_1597_549.png',\n",
    " '150318_mike_118_sumo14_150318_mike_118_sumo14_sq_index_nrg_476_798_5208.png',\n",
    " '150318_mike_118_sumo14_150318_mike_118_sumo14_sq_index_nrg_496_798_2546.png',\n",
    " '150318_mike_118_sumo14_150318_mike_118_sumo14_sq_index_nrg_497_798_2412.png',\n",
    " '150318_mike_118_sumo14_150318_mike_118_sumo14_sq_index_nrg_498_798_2279.png',\n",
    " '150318_mike_118_sumo14_150318_mike_118_sumo14_sq_index_nrg_878_1464_948.png',\n",
    " '150318_mike_118_sumo14_150318_mike_118_sumo14_sq_index_nrg_88_133_7605.png',\n",
    " '150318_mike_118_sumo14_150318_mike_118_sumo14_sq_index_nrg_915_1597_5874.png',\n",
    " '150318_mike_118_sumo14_150318_mike_118_sumo14_sq_index_nrg_916_1597_5741.png',\n",
    " '150318_mike_118_sumo14_150318_mike_118_sumo14_sq_index_nrg_917_1597_5608.png',\n",
    " '150318_mike_118_sumo14_150318_mike_118_sumo14_sq_index_nrg_91_133_7205.png',\n",
    " '150318_mike_118_sumo14_150318_mike_118_sumo14_sq_index_nrg_26_0_6007.png',\n",
    " '150318_mike_118_sumo14_150318_mike_118_sumo14_sq_index_nrg_27_0_5874.png',\n",
    " '150318_mike_118_sumo14_150318_mike_118_sumo14_sq_index_nrg_28_0_5741.png',\n",
    " '150318_mike_118_sumo14_150318_mike_118_sumo14_sq_index_nrg_29_0_5608.png',\n",
    " '150318_mike_118_sumo14_150318_mike_118_sumo14_sq_index_nrg_501_798_1880.png',\n",
    " '150318_mike_118_sumo14_150318_mike_118_sumo14_sq_index_nrg_502_798_1747.png',\n",
    " '150318_mike_118_sumo14_150318_mike_118_sumo14_sq_index_nrg_531_931_7738.png',\n",
    " '150318_mike_118_sumo14_150318_mike_118_sumo14_sq_index_nrg_553_931_4809.png',\n",
    " '150318_mike_118_sumo14_150318_mike_118_sumo14_sq_index_nrg_554_931_4676.png',\n",
    " '150318_mike_118_sumo14_150318_mike_118_sumo14_sq_index_nrg_556_931_4409.png',\n",
    " '150318_mike_118_sumo14_150318_mike_118_sumo14_sq_index_nrg_557_931_4276.png',\n",
    " '150318_mike_118_sumo14_150318_mike_118_sumo14_sq_index_nrg_560_931_3877.png',\n",
    " '150318_mike_118_sumo14_150318_mike_118_sumo14_sq_index_nrg_561_931_3744.png',\n",
    " '150318_mike_118_sumo14_150318_mike_118_sumo14_sq_index_nrg_574_931_2013.png',\n",
    " '150318_mike_118_sumo14_150318_mike_118_sumo14_sq_index_nrg_575_931_1880.png',\n",
    " '150318_mike_118_sumo14_150318_mike_118_sumo14_sq_index_nrg_1874_3328_6273.png',\n",
    " '150318_mike_118_sumo14_150318_mike_118_sumo14_sq_index_nrg_1875_3328_6140.png',\n",
    " '150318_mike_118_sumo14_150318_mike_118_sumo14_sq_index_nrg_1876_3328_6007.png',\n",
    " '150318_mike_118_sumo14_150318_mike_118_sumo14_sq_index_nrg_1877_3328_5874.png',\n",
    " '150318_mike_118_sumo14_150318_mike_118_sumo14_sq_index_nrg_1960_3461_4676.png',\n",
    " '150318_mike_118_sumo14_150318_mike_118_sumo14_sq_index_nrg_852_1464_4409.png',\n",
    " '150318_mike_118_sumo14_150318_mike_118_sumo14_sq_index_nrg_856_1464_3877.png',\n",
    " '150318_mike_118_sumo14_150318_mike_118_sumo14_sq_index_nrg_870_1464_2013.png',\n",
    " '150318_mike_118_sumo14_150318_mike_118_sumo14_sq_index_nrg_874_1464_1481.png',\n",
    " '150318_mike_118_sumo14_150318_mike_118_sumo14_sq_index_nrg_23_0_6406.png',\n",
    " '150318_mike_118_sumo14_150318_mike_118_sumo14_sq_index_nrg_240_399_7072.png',\n",
    " '150318_mike_118_sumo14_150318_mike_118_sumo14_sq_index_nrg_24_0_6273.png',\n",
    " '150318_mike_118_sumo14_150318_mike_118_sumo14_sq_index_nrg_25_0_6140.png',\n",
    " '150318_mike_118_sumo14_150318_mike_118_sumo14_sq_index_nrg_986_1730_6273.png',\n",
    " '150318_mike_118_sumo14_150318_mike_118_sumo14_sq_index_nrg_987_1730_6140.png',\n",
    " 's4_tv3_project_noalpha_reflectance_nrg_1_1_1000_3220_3958.png',\n",
    " 's4_tv3_project_noalpha_reflectance_nrg_1_1_1028_3220_618.png',\n",
    " 's4_tv3_project_noalpha_reflectance_nrg_1_1_1031_3220_260.png',\n",
    " 's4_tv3_project_noalpha_reflectance_nrg_1_1_1057_3339_1573.png',\n",
    " 's6_tv4_project_transparent_reflectance_nrg_107_239_501.png',\n",
    " 's4_tv3_project_noalpha_reflectance_nrg_1_1_151_477_3720.png',\n",
    " 's4_tv3_project_noalpha_reflectance_nrg_1_1_1213_3817_618.png',\n",
    " 's4_tv3_project_noalpha_reflectance_nrg_1_1_1215_3817_380.png',\n",
    " 's4_tv3_project_noalpha_reflectance_nrg_1_1_262_834_3720.png',\n",
    " 's6_tv4_project_transparent_reflectance_nrg_905_2752_501.png',\n",
    " 's4_tv3_project_noalpha_reflectance_nrg_1_1_216_596_380.png',\n",
    " 's6_tv4_project_transparent_reflectance_nrg_196_598_3493.png',\n",
    " 's6_tv4_project_transparent_reflectance_nrg_197_598_3373.png',\n",
    " 's6_tv4_project_transparent_reflectance_nrg_231_717_3852.png',\n",
    " 's6_tv4_project_transparent_reflectance_nrg_269_837_3852.png',\n",
    " 's6_tv4_project_transparent_reflectance_nrg_270_837_3732.png',\n",
    " 's4_tv3_project_noalpha_reflectance_nrg_1_1_1075_3459_3839.png',\n",
    " 's4_tv3_project_noalpha_reflectance_nrg_1_1_1076_3459_3720.png',\n",
    " '19_nrg_19_153_681_621.png',\n",
    " '19_nrg_19_154_681_507.png',\n",
    " '19_nrg_19_176_795_621.png',\n",
    " '19_nrg_19_199_909_621.png',\n",
    " '19_nrg_19_599_2954_2212.png',\n",
    " '19_nrg_19_622_3067_2212.png',\n",
    " '19_nrg_19_234_1136_1871.png',\n",
    " '19_nrg_19_96_454_1871.png',\n",
    " '15_nrg_15_368_1290_1545.png',\n",
    " '15_nrg_15_378_1290_372.png',\n",
    " '15_nrg_15_411_1408_254.png',\n",
    " '15_nrg_15_313_1056_489.png',\n",
    " '15_nrg_15_314_1056_372.png',\n",
    " '15_nrg_15_345_1173_489.png',\n",
    " 'm1_tv3_nrg_2_30_1004_1654_6925.png',\n",
    " 'm1_tv3_nrg_2_30_3046_4964_542.png',\n",
    " 'm1_tv3_nrg_2_30_2018_3309_4561.png',\n",
    " 'm1_tv3_nrg_2_30_370_590_6334.png',\n",
    " 'm1_tv3_nrg_2_30_3968_6500_660.png',\n",
    " 'm1_tv3_nrg_2_30_4344_7209_6570.png',\n",
    " 'm1_tv3_nrg_2_30_3509_5791_4561.png',\n",
    " 'm1_tv3_nrg_2_30_53_0_1842.png',\n",
    " 'm1_tv3_nrg_2_30_575_945_7279.png',\n",
    " 'm1_tv3_nrg_2_30_582_945_6452.png',\n",
    " 'm1_tv3_nrg_2_30_862_1418_6925.png',\n",
    " 'm1_tv3_nrg_2_30_25_0_5152.png',\n",
    " 'm1_tv3_nrg_2_30_2647_4373_5743.png',\n",
    " 'm1_tv3_nrg_2_30_159_236_6097.png',\n",
    " 'm1_tv3_nrg_2_30_1674_2718_3261.png',\n",
    " 'm1_tv3_nrg_2_30_3261_5318_306.png',\n",
    " 'm1_tv3_nrg_2_30_153_236_6806.png',\n",
    " 'm1_tv3_nrg_2_30_4042_6618_306.png',\n",
    " 'm1_tv3_nrg_2_30_4285_7091_5152.png',\n",
    " 'm1_tv3_nrg_2_30_4298_7091_3615.png',\n",
    " 'm1_tv3_nrg_2_30_4309_7091_2315.png',\n",
    " 'm1_tv3_nrg_2_30_21_0_5624.png',\n",
    " 'm1_tv3_nrg_sumo14_30_118_665_2339.png',\n",
    " 'm1_tv3_nrg_sumo14_30_121_665_1940.png',\n",
    " 'm1_tv3_nrg_sumo14_30_122_665_1807.png',\n",
    " 'm1_tv3_nrg_sumo14_30_129_665_876.png',\n",
    " 'm1_tv3_nrg_sumo14_30_130_665_743.png',\n",
    " 'm1_tv3_nrg_sumo14_30_132_665_476.png',\n",
    " 'm1_tv3_nrg_sumo14_30_262_1463_1541.png',\n",
    " 'm1_tv3_nrg_sumo14_30_266_1463_1009.png',\n",
    " 'm1_tv3_nrg_sumo14_30_270_1463_476.png',\n",
    " 'm1_tv3_nrg_sumo14_30_277_1596_2605.png',\n",
    " 'm1_tv3_nrg_sumo14_30_279_1596_2339.png',\n",
    " 'm1_tv3_nrg_sumo14_30_288_1596_1142.png',\n",
    " 'm1_tv3_nrg_sumo14_30_291_1596_743.png',\n",
    " 'm1_tv3_nrg_sumo14_30_293_1596_476.png',\n",
    " 'm1_tv3_nrg_sumo14_30_301_1729_2472.png',\n",
    " 'm1_tv3_nrg_sumo14_30_176_931_743.png',\n",
    " 'm1_tv3_nrg_sumo14_30_178_931_476.png',\n",
    " 'm1_tv3_nrg_sumo14_30_179_931_343.png',\n",
    " 'm1_tv3_nrg_sumo14_30_189_1064_2073.png',\n",
    " 'm1_tv3_nrg_sumo14_30_190_1064_1940.png',\n",
    " 'm1_tv3_nrg_sumo14_30_191_1064_1807.png',\n",
    " 'm1_tv3_nrg_sumo14_30_193_1064_1541.png',\n",
    " 'm1_tv3_nrg_sumo14_30_195_1064_1275.png',\n",
    " 'm1_tv3_nrg_sumo14_30_196_1064_1142.png',\n",
    " 'm1_tv3_nrg_sumo14_30_197_1064_1009.png',\n",
    " 'm1_tv3_nrg_sumo14_30_198_1064_876.png',\n",
    " 'm1_tv3_nrg_sumo14_30_200_1064_610.png',\n",
    " 'm1_tv3_nrg_sumo14_30_201_1064_476.png',\n",
    " 'm1_tv3_nrg_sumo14_30_203_1064_210.png',\n",
    " 'm1_tv3_nrg_sumo14_30_206_1064_0.png',\n",
    " 'm1_tv3_nrg_sumo14_30_211_1197_2206.png',\n",
    " 'm1_tv3_nrg_sumo14_30_215_1197_1674.png',\n",
    " 'm1_tv3_nrg_sumo14_30_217_1197_1408.png',\n",
    " 'm1_tv3_nrg_sumo14_30_219_1197_1142.png',\n",
    " 'm1_tv3_nrg_sumo14_30_220_1197_1009.png',\n",
    " 'm1_tv3_nrg_sumo14_30_223_1197_610.png',\n",
    " 'm1_tv3_nrg_sumo14_30_224_1197_476.png',\n",
    " 'm1_tv3_nrg_sumo14_30_226_1197_210.png',\n",
    " 'm1_tv3_nrg_sumo14_30_230_1330_2739.png',\n",
    " 'm1_tv3_nrg_sumo14_30_232_1330_2472.png',\n",
    " 'm1_tv3_nrg_sumo14_30_234_1330_2206.png',\n",
    " 'm1_tv3_nrg_sumo14_30_235_1330_2073.png',\n",
    " 'm1_tv3_nrg_sumo14_30_243_1330_1009.png',\n",
    " 'm1_tv3_nrg_sumo14_30_247_1330_476.png',\n",
    " 'm1_tv3_nrg_sumo14_30_324_1862_2472.png',\n",
    " 'm1_tv3_nrg_sumo14_30_341_1862_210.png',\n",
    " 'm1_tv3_nrg_sumo14_30_361_1995_610.png',\n",
    " 'm1_tv3_nrg_sumo14_30_364_1995_210.png',\n",
    " 'm1_tv3_nrg_sumo14_30_365_1995_77.png',\n",
    " 'm1_tv3_nrg_sumo14_30_174_931_1009.png',\n",
    " 'm1_tv3_nrg_sumo14_30_65_266_210.png',\n",
    " 'm1_tv3_nrg_sumo14_30_95_532_2339.png',\n",
    " 'm1_tv3_nrg_sumo14_30_144_798_1940.png',\n",
    " 'm1_tv3_nrg_sumo14_30_146_798_1674.png',\n",
    " 'm1_tv3_nrg_sumo14_30_149_798_1275.png',\n",
    " 'm1_tv3_nrg_sumo14_30_150_798_1142.png',\n",
    " 'm1_tv3_nrg_sumo14_30_152_798_876.png',\n",
    " 'm1_tv3_nrg_sumo14_30_153_798_743.png',\n",
    " 'm1_tv3_nrg_sumo14_30_166_931_2073.png']"
   ]
  },
  {
   "cell_type": "code",
   "execution_count": null,
   "metadata": {},
   "outputs": [],
   "source": [
    "import rasterio"
   ]
  },
  {
   "cell_type": "code",
   "execution_count": null,
   "metadata": {},
   "outputs": [],
   "source": [
    "with rasterio.open('/media/user/5674E720138ECEDF/geo_data/data/Suntreat/s5/pix4d/RV1_m5/-L7xqK-WeqbcV5BN9pem/project/project/3_dsm_ortho/2_mosaic/project_transparent_mosaic_group1_rgg.tif','r') as src:\n",
    "    raster_arr = src.read(1)\n",
    "    print(raster_arr.max())"
   ]
  },
  {
   "cell_type": "code",
   "execution_count": null,
   "metadata": {},
   "outputs": [],
   "source": [
    "with rasterio.open('/media/user/5674E720138ECEDF/geo_data/data/Suntreat/s5/pix4d/RV1_m5/-L7xqK-WeqbcV5BN9pem/project/project/3_dsm_ortho/2_mosaic/project_transparent_mosaic_group1.tif','r') as src:\n",
    "    raster_arr = src.read(3)\n",
    "    print(raster_arr.max())"
   ]
  },
  {
   "cell_type": "code",
   "execution_count": null,
   "metadata": {},
   "outputs": [],
   "source": [
    "raster_arr.max()"
   ]
  },
  {
   "cell_type": "code",
   "execution_count": null,
   "metadata": {},
   "outputs": [],
   "source": [
    "raster_arr[2].max()"
   ]
  },
  {
   "cell_type": "code",
   "execution_count": null,
   "metadata": {},
   "outputs": [],
   "source": [
    "raster_arr"
   ]
  },
  {
   "cell_type": "code",
   "execution_count": null,
   "metadata": {},
   "outputs": [],
   "source": [
    "import matplotlib.pyplot as plt\n",
    "plt.imshow(raster_arr, 'gray')"
   ]
  }
 ],
 "metadata": {
  "kernelspec": {
   "display_name": "Python 3",
   "language": "python",
   "name": "python3"
  },
  "language_info": {
   "codemirror_mode": {
    "name": "ipython",
    "version": 3
   },
   "file_extension": ".py",
   "mimetype": "text/x-python",
   "name": "python",
   "nbconvert_exporter": "python",
   "pygments_lexer": "ipython3",
   "version": "3.5.2"
  }
 },
 "nbformat": 4,
 "nbformat_minor": 2
}
